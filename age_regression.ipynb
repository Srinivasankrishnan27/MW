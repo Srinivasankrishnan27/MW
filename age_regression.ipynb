{
  "nbformat": 4,
  "nbformat_minor": 0,
  "metadata": {
    "colab": {
      "name": "age_regression",
      "version": "0.3.2",
      "provenance": []
    },
    "kernelspec": {
      "name": "python3",
      "display_name": "Python 3"
    },
    "accelerator": "GPU"
  },
  "cells": [
    {
      "metadata": {
        "id": "pKHpk1K8LFHL",
        "colab_type": "code",
        "colab": {}
      },
      "cell_type": "code",
      "source": [
        "import numpy\n",
        "import pandas as pd\n",
        "from keras.models import Sequential\n",
        "from keras.layers import Dense\n",
        "from keras.wrappers.scikit_learn import KerasRegressor\n",
        "from sklearn.model_selection import cross_val_score\n",
        "from sklearn.model_selection import KFold\n",
        "from sklearn.preprocessing import StandardScaler\n",
        "from sklearn.pipeline import Pipeline\n",
        "from sklearn.model_selection import train_test_split\n",
        "from keras.callbacks import EarlyStopping, ModelCheckpoint\n",
        "from keras.layers import Conv1D, MaxPooling1D, Embedding, Dropout, Activation, Dense, Dropout, Flatten\n",
        "from keras import backend as K"
      ],
      "execution_count": 0,
      "outputs": []
    },
    {
      "metadata": {
        "id": "Td52E4nALT8t",
        "colab_type": "code",
        "colab": {
          "resources": {
            "http://localhost:8080/nbextensions/google.colab/files.js": {
              "data": "Ly8gQ29weXJpZ2h0IDIwMTcgR29vZ2xlIExMQwovLwovLyBMaWNlbnNlZCB1bmRlciB0aGUgQXBhY2hlIExpY2Vuc2UsIFZlcnNpb24gMi4wICh0aGUgIkxpY2Vuc2UiKTsKLy8geW91IG1heSBub3QgdXNlIHRoaXMgZmlsZSBleGNlcHQgaW4gY29tcGxpYW5jZSB3aXRoIHRoZSBMaWNlbnNlLgovLyBZb3UgbWF5IG9idGFpbiBhIGNvcHkgb2YgdGhlIExpY2Vuc2UgYXQKLy8KLy8gICAgICBodHRwOi8vd3d3LmFwYWNoZS5vcmcvbGljZW5zZXMvTElDRU5TRS0yLjAKLy8KLy8gVW5sZXNzIHJlcXVpcmVkIGJ5IGFwcGxpY2FibGUgbGF3IG9yIGFncmVlZCB0byBpbiB3cml0aW5nLCBzb2Z0d2FyZQovLyBkaXN0cmlidXRlZCB1bmRlciB0aGUgTGljZW5zZSBpcyBkaXN0cmlidXRlZCBvbiBhbiAiQVMgSVMiIEJBU0lTLAovLyBXSVRIT1VUIFdBUlJBTlRJRVMgT1IgQ09ORElUSU9OUyBPRiBBTlkgS0lORCwgZWl0aGVyIGV4cHJlc3Mgb3IgaW1wbGllZC4KLy8gU2VlIHRoZSBMaWNlbnNlIGZvciB0aGUgc3BlY2lmaWMgbGFuZ3VhZ2UgZ292ZXJuaW5nIHBlcm1pc3Npb25zIGFuZAovLyBsaW1pdGF0aW9ucyB1bmRlciB0aGUgTGljZW5zZS4KCi8qKgogKiBAZmlsZW92ZXJ2aWV3IEhlbHBlcnMgZm9yIGdvb2dsZS5jb2xhYiBQeXRob24gbW9kdWxlLgogKi8KKGZ1bmN0aW9uKHNjb3BlKSB7CmZ1bmN0aW9uIHNwYW4odGV4dCwgc3R5bGVBdHRyaWJ1dGVzID0ge30pIHsKICBjb25zdCBlbGVtZW50ID0gZG9jdW1lbnQuY3JlYXRlRWxlbWVudCgnc3BhbicpOwogIGVsZW1lbnQudGV4dENvbnRlbnQgPSB0ZXh0OwogIGZvciAoY29uc3Qga2V5IG9mIE9iamVjdC5rZXlzKHN0eWxlQXR0cmlidXRlcykpIHsKICAgIGVsZW1lbnQuc3R5bGVba2V5XSA9IHN0eWxlQXR0cmlidXRlc1trZXldOwogIH0KICByZXR1cm4gZWxlbWVudDsKfQoKLy8gTWF4IG51bWJlciBvZiBieXRlcyB3aGljaCB3aWxsIGJlIHVwbG9hZGVkIGF0IGEgdGltZS4KY29uc3QgTUFYX1BBWUxPQURfU0laRSA9IDEwMCAqIDEwMjQ7Ci8vIE1heCBhbW91bnQgb2YgdGltZSB0byBibG9jayB3YWl0aW5nIGZvciB0aGUgdXNlci4KY29uc3QgRklMRV9DSEFOR0VfVElNRU9VVF9NUyA9IDMwICogMTAwMDsKCmZ1bmN0aW9uIF91cGxvYWRGaWxlcyhpbnB1dElkLCBvdXRwdXRJZCkgewogIGNvbnN0IHN0ZXBzID0gdXBsb2FkRmlsZXNTdGVwKGlucHV0SWQsIG91dHB1dElkKTsKICBjb25zdCBvdXRwdXRFbGVtZW50ID0gZG9jdW1lbnQuZ2V0RWxlbWVudEJ5SWQob3V0cHV0SWQpOwogIC8vIENhY2hlIHN0ZXBzIG9uIHRoZSBvdXRwdXRFbGVtZW50IHRvIG1ha2UgaXQgYXZhaWxhYmxlIGZvciB0aGUgbmV4dCBjYWxsCiAgLy8gdG8gdXBsb2FkRmlsZXNDb250aW51ZSBmcm9tIFB5dGhvbi4KICBvdXRwdXRFbGVtZW50LnN0ZXBzID0gc3RlcHM7CgogIHJldHVybiBfdXBsb2FkRmlsZXNDb250aW51ZShvdXRwdXRJZCk7Cn0KCi8vIFRoaXMgaXMgcm91Z2hseSBhbiBhc3luYyBnZW5lcmF0b3IgKG5vdCBzdXBwb3J0ZWQgaW4gdGhlIGJyb3dzZXIgeWV0KSwKLy8gd2hlcmUgdGhlcmUgYXJlIG11bHRpcGxlIGFzeW5jaHJvbm91cyBzdGVwcyBhbmQgdGhlIFB5dGhvbiBzaWRlIGlzIGdvaW5nCi8vIHRvIHBvbGwgZm9yIGNvbXBsZXRpb24gb2YgZWFjaCBzdGVwLgovLyBUaGlzIHVzZXMgYSBQcm9taXNlIHRvIGJsb2NrIHRoZSBweXRob24gc2lkZSBvbiBjb21wbGV0aW9uIG9mIGVhY2ggc3RlcCwKLy8gdGhlbiBwYXNzZXMgdGhlIHJlc3VsdCBvZiB0aGUgcHJldmlvdXMgc3RlcCBhcyB0aGUgaW5wdXQgdG8gdGhlIG5leHQgc3RlcC4KZnVuY3Rpb24gX3VwbG9hZEZpbGVzQ29udGludWUob3V0cHV0SWQpIHsKICBjb25zdCBvdXRwdXRFbGVtZW50ID0gZG9jdW1lbnQuZ2V0RWxlbWVudEJ5SWQob3V0cHV0SWQpOwogIGNvbnN0IHN0ZXBzID0gb3V0cHV0RWxlbWVudC5zdGVwczsKCiAgY29uc3QgbmV4dCA9IHN0ZXBzLm5leHQob3V0cHV0RWxlbWVudC5sYXN0UHJvbWlzZVZhbHVlKTsKICByZXR1cm4gUHJvbWlzZS5yZXNvbHZlKG5leHQudmFsdWUucHJvbWlzZSkudGhlbigodmFsdWUpID0+IHsKICAgIC8vIENhY2hlIHRoZSBsYXN0IHByb21pc2UgdmFsdWUgdG8gbWFrZSBpdCBhdmFpbGFibGUgdG8gdGhlIG5leHQKICAgIC8vIHN0ZXAgb2YgdGhlIGdlbmVyYXRvci4KICAgIG91dHB1dEVsZW1lbnQubGFzdFByb21pc2VWYWx1ZSA9IHZhbHVlOwogICAgcmV0dXJuIG5leHQudmFsdWUucmVzcG9uc2U7CiAgfSk7Cn0KCi8qKgogKiBHZW5lcmF0b3IgZnVuY3Rpb24gd2hpY2ggaXMgY2FsbGVkIGJldHdlZW4gZWFjaCBhc3luYyBzdGVwIG9mIHRoZSB1cGxvYWQKICogcHJvY2Vzcy4KICogQHBhcmFtIHtzdHJpbmd9IGlucHV0SWQgRWxlbWVudCBJRCBvZiB0aGUgaW5wdXQgZmlsZSBwaWNrZXIgZWxlbWVudC4KICogQHBhcmFtIHtzdHJpbmd9IG91dHB1dElkIEVsZW1lbnQgSUQgb2YgdGhlIG91dHB1dCBkaXNwbGF5LgogKiBAcmV0dXJuIHshSXRlcmFibGU8IU9iamVjdD59IEl0ZXJhYmxlIG9mIG5leHQgc3RlcHMuCiAqLwpmdW5jdGlvbiogdXBsb2FkRmlsZXNTdGVwKGlucHV0SWQsIG91dHB1dElkKSB7CiAgY29uc3QgaW5wdXRFbGVtZW50ID0gZG9jdW1lbnQuZ2V0RWxlbWVudEJ5SWQoaW5wdXRJZCk7CiAgaW5wdXRFbGVtZW50LmRpc2FibGVkID0gZmFsc2U7CgogIGNvbnN0IG91dHB1dEVsZW1lbnQgPSBkb2N1bWVudC5nZXRFbGVtZW50QnlJZChvdXRwdXRJZCk7CiAgb3V0cHV0RWxlbWVudC5pbm5lckhUTUwgPSAnJzsKCiAgY29uc3QgcGlja2VkUHJvbWlzZSA9IG5ldyBQcm9taXNlKChyZXNvbHZlKSA9PiB7CiAgICBpbnB1dEVsZW1lbnQuYWRkRXZlbnRMaXN0ZW5lcignY2hhbmdlJywgKGUpID0+IHsKICAgICAgcmVzb2x2ZShlLnRhcmdldC5maWxlcyk7CiAgICB9KTsKICB9KTsKCiAgY29uc3QgY2FuY2VsID0gZG9jdW1lbnQuY3JlYXRlRWxlbWVudCgnYnV0dG9uJyk7CiAgaW5wdXRFbGVtZW50LnBhcmVudEVsZW1lbnQuYXBwZW5kQ2hpbGQoY2FuY2VsKTsKICBjYW5jZWwudGV4dENvbnRlbnQgPSAnQ2FuY2VsIHVwbG9hZCc7CiAgY29uc3QgY2FuY2VsUHJvbWlzZSA9IG5ldyBQcm9taXNlKChyZXNvbHZlKSA9PiB7CiAgICBjYW5jZWwub25jbGljayA9ICgpID0+IHsKICAgICAgcmVzb2x2ZShudWxsKTsKICAgIH07CiAgfSk7CgogIC8vIENhbmNlbCB1cGxvYWQgaWYgdXNlciBoYXNuJ3QgcGlja2VkIGFueXRoaW5nIGluIHRpbWVvdXQuCiAgY29uc3QgdGltZW91dFByb21pc2UgPSBuZXcgUHJvbWlzZSgocmVzb2x2ZSkgPT4gewogICAgc2V0VGltZW91dCgoKSA9PiB7CiAgICAgIHJlc29sdmUobnVsbCk7CiAgICB9LCBGSUxFX0NIQU5HRV9USU1FT1VUX01TKTsKICB9KTsKCiAgLy8gV2FpdCBmb3IgdGhlIHVzZXIgdG8gcGljayB0aGUgZmlsZXMuCiAgY29uc3QgZmlsZXMgPSB5aWVsZCB7CiAgICBwcm9taXNlOiBQcm9taXNlLnJhY2UoW3BpY2tlZFByb21pc2UsIHRpbWVvdXRQcm9taXNlLCBjYW5jZWxQcm9taXNlXSksCiAgICByZXNwb25zZTogewogICAgICBhY3Rpb246ICdzdGFydGluZycsCiAgICB9CiAgfTsKCiAgaWYgKCFmaWxlcykgewogICAgcmV0dXJuIHsKICAgICAgcmVzcG9uc2U6IHsKICAgICAgICBhY3Rpb246ICdjb21wbGV0ZScsCiAgICAgIH0KICAgIH07CiAgfQoKICBjYW5jZWwucmVtb3ZlKCk7CgogIC8vIERpc2FibGUgdGhlIGlucHV0IGVsZW1lbnQgc2luY2UgZnVydGhlciBwaWNrcyBhcmUgbm90IGFsbG93ZWQuCiAgaW5wdXRFbGVtZW50LmRpc2FibGVkID0gdHJ1ZTsKCiAgZm9yIChjb25zdCBmaWxlIG9mIGZpbGVzKSB7CiAgICBjb25zdCBsaSA9IGRvY3VtZW50LmNyZWF0ZUVsZW1lbnQoJ2xpJyk7CiAgICBsaS5hcHBlbmQoc3BhbihmaWxlLm5hbWUsIHtmb250V2VpZ2h0OiAnYm9sZCd9KSk7CiAgICBsaS5hcHBlbmQoc3BhbigKICAgICAgICBgKCR7ZmlsZS50eXBlIHx8ICduL2EnfSkgLSAke2ZpbGUuc2l6ZX0gYnl0ZXMsIGAgKwogICAgICAgIGBsYXN0IG1vZGlmaWVkOiAkewogICAgICAgICAgICBmaWxlLmxhc3RNb2RpZmllZERhdGUgPyBmaWxlLmxhc3RNb2RpZmllZERhdGUudG9Mb2NhbGVEYXRlU3RyaW5nKCkgOgogICAgICAgICAgICAgICAgICAgICAgICAgICAgICAgICAgICAnbi9hJ30gLSBgKSk7CiAgICBjb25zdCBwZXJjZW50ID0gc3BhbignMCUgZG9uZScpOwogICAgbGkuYXBwZW5kQ2hpbGQocGVyY2VudCk7CgogICAgb3V0cHV0RWxlbWVudC5hcHBlbmRDaGlsZChsaSk7CgogICAgY29uc3QgZmlsZURhdGFQcm9taXNlID0gbmV3IFByb21pc2UoKHJlc29sdmUpID0+IHsKICAgICAgY29uc3QgcmVhZGVyID0gbmV3IEZpbGVSZWFkZXIoKTsKICAgICAgcmVhZGVyLm9ubG9hZCA9IChlKSA9PiB7CiAgICAgICAgcmVzb2x2ZShlLnRhcmdldC5yZXN1bHQpOwogICAgICB9OwogICAgICByZWFkZXIucmVhZEFzQXJyYXlCdWZmZXIoZmlsZSk7CiAgICB9KTsKICAgIC8vIFdhaXQgZm9yIHRoZSBkYXRhIHRvIGJlIHJlYWR5LgogICAgbGV0IGZpbGVEYXRhID0geWllbGQgewogICAgICBwcm9taXNlOiBmaWxlRGF0YVByb21pc2UsCiAgICAgIHJlc3BvbnNlOiB7CiAgICAgICAgYWN0aW9uOiAnY29udGludWUnLAogICAgICB9CiAgICB9OwoKICAgIC8vIFVzZSBhIGNodW5rZWQgc2VuZGluZyB0byBhdm9pZCBtZXNzYWdlIHNpemUgbGltaXRzLiBTZWUgYi82MjExNTY2MC4KICAgIGxldCBwb3NpdGlvbiA9IDA7CiAgICB3aGlsZSAocG9zaXRpb24gPCBmaWxlRGF0YS5ieXRlTGVuZ3RoKSB7CiAgICAgIGNvbnN0IGxlbmd0aCA9IE1hdGgubWluKGZpbGVEYXRhLmJ5dGVMZW5ndGggLSBwb3NpdGlvbiwgTUFYX1BBWUxPQURfU0laRSk7CiAgICAgIGNvbnN0IGNodW5rID0gbmV3IFVpbnQ4QXJyYXkoZmlsZURhdGEsIHBvc2l0aW9uLCBsZW5ndGgpOwogICAgICBwb3NpdGlvbiArPSBsZW5ndGg7CgogICAgICBjb25zdCBiYXNlNjQgPSBidG9hKFN0cmluZy5mcm9tQ2hhckNvZGUuYXBwbHkobnVsbCwgY2h1bmspKTsKICAgICAgeWllbGQgewogICAgICAgIHJlc3BvbnNlOiB7CiAgICAgICAgICBhY3Rpb246ICdhcHBlbmQnLAogICAgICAgICAgZmlsZTogZmlsZS5uYW1lLAogICAgICAgICAgZGF0YTogYmFzZTY0LAogICAgICAgIH0sCiAgICAgIH07CiAgICAgIHBlcmNlbnQudGV4dENvbnRlbnQgPQogICAgICAgICAgYCR7TWF0aC5yb3VuZCgocG9zaXRpb24gLyBmaWxlRGF0YS5ieXRlTGVuZ3RoKSAqIDEwMCl9JSBkb25lYDsKICAgIH0KICB9CgogIC8vIEFsbCBkb25lLgogIHlpZWxkIHsKICAgIHJlc3BvbnNlOiB7CiAgICAgIGFjdGlvbjogJ2NvbXBsZXRlJywKICAgIH0KICB9Owp9CgpzY29wZS5nb29nbGUgPSBzY29wZS5nb29nbGUgfHwge307CnNjb3BlLmdvb2dsZS5jb2xhYiA9IHNjb3BlLmdvb2dsZS5jb2xhYiB8fCB7fTsKc2NvcGUuZ29vZ2xlLmNvbGFiLl9maWxlcyA9IHsKICBfdXBsb2FkRmlsZXMsCiAgX3VwbG9hZEZpbGVzQ29udGludWUsCn07Cn0pKHNlbGYpOwo=",
              "ok": true,
              "headers": [
                [
                  "content-type",
                  "application/javascript"
                ]
              ],
              "status": 200,
              "status_text": ""
            }
          },
          "base_uri": "https://localhost:8080/",
          "height": 592
        },
        "outputId": "9f712abc-9234-4e06-b3c6-2f235f21988e"
      },
      "cell_type": "code",
      "source": [
        "from google.colab import files\n",
        "uploaded = files.upload()"
      ],
      "execution_count": 8,
      "outputs": [
        {
          "output_type": "display_data",
          "data": {
            "text/html": [
              "\n",
              "     <input type=\"file\" id=\"files-159da19d-f354-4395-b570-d91a72f332ce\" name=\"files[]\" multiple disabled />\n",
              "     <output id=\"result-159da19d-f354-4395-b570-d91a72f332ce\">\n",
              "      Upload widget is only available when the cell has been executed in the\n",
              "      current browser session. Please rerun this cell to enable.\n",
              "      </output>\n",
              "      <script src=\"/nbextensions/google.colab/files.js\"></script> "
            ],
            "text/plain": [
              "<IPython.core.display.HTML object>"
            ]
          },
          "metadata": {
            "tags": []
          }
        },
        {
          "output_type": "stream",
          "text": [
            "Saving processed.csv to processed (1).csv\n"
          ],
          "name": "stdout"
        },
        {
          "output_type": "error",
          "ename": "KeyboardInterrupt",
          "evalue": "ignored",
          "traceback": [
            "\u001b[0;31m---------------------------------------------------------------------------\u001b[0m",
            "\u001b[0;31mKeyboardInterrupt\u001b[0m                         Traceback (most recent call last)",
            "\u001b[0;32m<ipython-input-8-21dc3c638f66>\u001b[0m in \u001b[0;36m<module>\u001b[0;34m()\u001b[0m\n\u001b[1;32m      1\u001b[0m \u001b[0;32mfrom\u001b[0m \u001b[0mgoogle\u001b[0m\u001b[0;34m.\u001b[0m\u001b[0mcolab\u001b[0m \u001b[0;32mimport\u001b[0m \u001b[0mfiles\u001b[0m\u001b[0;34m\u001b[0m\u001b[0m\n\u001b[0;32m----> 2\u001b[0;31m \u001b[0muploaded\u001b[0m \u001b[0;34m=\u001b[0m \u001b[0mfiles\u001b[0m\u001b[0;34m.\u001b[0m\u001b[0mupload\u001b[0m\u001b[0;34m(\u001b[0m\u001b[0;34m)\u001b[0m\u001b[0;34m\u001b[0m\u001b[0m\n\u001b[0m",
            "\u001b[0;32m/usr/local/lib/python3.6/dist-packages/google/colab/files.py\u001b[0m in \u001b[0;36mupload\u001b[0;34m()\u001b[0m\n\u001b[1;32m     68\u001b[0m     result = output.eval_js(\n\u001b[1;32m     69\u001b[0m         'google.colab._files._uploadFilesContinue(\"{output_id}\")'.format(\n\u001b[0;32m---> 70\u001b[0;31m             output_id=output_id))\n\u001b[0m\u001b[1;32m     71\u001b[0m     \u001b[0;32mif\u001b[0m \u001b[0mresult\u001b[0m\u001b[0;34m[\u001b[0m\u001b[0;34m'action'\u001b[0m\u001b[0;34m]\u001b[0m \u001b[0;34m!=\u001b[0m \u001b[0;34m'append'\u001b[0m\u001b[0;34m:\u001b[0m\u001b[0;34m\u001b[0m\u001b[0m\n\u001b[1;32m     72\u001b[0m       \u001b[0;31m# JS side uses a generator of promises to process all of the files- some\u001b[0m\u001b[0;34m\u001b[0m\u001b[0;34m\u001b[0m\u001b[0m\n",
            "\u001b[0;32m/usr/local/lib/python3.6/dist-packages/google/colab/output/_js.py\u001b[0m in \u001b[0;36meval_js\u001b[0;34m(script, ignore_result)\u001b[0m\n\u001b[1;32m     37\u001b[0m   \u001b[0;32mif\u001b[0m \u001b[0mignore_result\u001b[0m\u001b[0;34m:\u001b[0m\u001b[0;34m\u001b[0m\u001b[0m\n\u001b[1;32m     38\u001b[0m     \u001b[0;32mreturn\u001b[0m\u001b[0;34m\u001b[0m\u001b[0m\n\u001b[0;32m---> 39\u001b[0;31m   \u001b[0;32mreturn\u001b[0m \u001b[0m_message\u001b[0m\u001b[0;34m.\u001b[0m\u001b[0mread_reply_from_input\u001b[0m\u001b[0;34m(\u001b[0m\u001b[0mrequest_id\u001b[0m\u001b[0;34m)\u001b[0m\u001b[0;34m\u001b[0m\u001b[0m\n\u001b[0m\u001b[1;32m     40\u001b[0m \u001b[0;34m\u001b[0m\u001b[0m\n\u001b[1;32m     41\u001b[0m \u001b[0;34m\u001b[0m\u001b[0m\n",
            "\u001b[0;32m/usr/local/lib/python3.6/dist-packages/google/colab/_message.py\u001b[0m in \u001b[0;36mread_reply_from_input\u001b[0;34m(message_id, timeout_sec)\u001b[0m\n\u001b[1;32m     79\u001b[0m     \u001b[0mreply\u001b[0m \u001b[0;34m=\u001b[0m \u001b[0m_read_next_input_message\u001b[0m\u001b[0;34m(\u001b[0m\u001b[0;34m)\u001b[0m\u001b[0;34m\u001b[0m\u001b[0m\n\u001b[1;32m     80\u001b[0m     \u001b[0;32mif\u001b[0m \u001b[0mreply\u001b[0m \u001b[0;34m==\u001b[0m \u001b[0m_NOT_READY\u001b[0m \u001b[0;32mor\u001b[0m \u001b[0;32mnot\u001b[0m \u001b[0misinstance\u001b[0m\u001b[0;34m(\u001b[0m\u001b[0mreply\u001b[0m\u001b[0;34m,\u001b[0m \u001b[0mdict\u001b[0m\u001b[0;34m)\u001b[0m\u001b[0;34m:\u001b[0m\u001b[0;34m\u001b[0m\u001b[0m\n\u001b[0;32m---> 81\u001b[0;31m       \u001b[0mtime\u001b[0m\u001b[0;34m.\u001b[0m\u001b[0msleep\u001b[0m\u001b[0;34m(\u001b[0m\u001b[0;36m0.025\u001b[0m\u001b[0;34m)\u001b[0m\u001b[0;34m\u001b[0m\u001b[0m\n\u001b[0m\u001b[1;32m     82\u001b[0m       \u001b[0;32mcontinue\u001b[0m\u001b[0;34m\u001b[0m\u001b[0m\n\u001b[1;32m     83\u001b[0m     if (reply.get('type') == 'colab_reply' and\n",
            "\u001b[0;31mKeyboardInterrupt\u001b[0m: "
          ]
        }
      ]
    },
    {
      "metadata": {
        "id": "p3BVxBz_XlGy",
        "colab_type": "code",
        "colab": {
          "resources": {
            "http://localhost:8080/nbextensions/google.colab/files.js": {
              "data": "Ly8gQ29weXJpZ2h0IDIwMTcgR29vZ2xlIExMQwovLwovLyBMaWNlbnNlZCB1bmRlciB0aGUgQXBhY2hlIExpY2Vuc2UsIFZlcnNpb24gMi4wICh0aGUgIkxpY2Vuc2UiKTsKLy8geW91IG1heSBub3QgdXNlIHRoaXMgZmlsZSBleGNlcHQgaW4gY29tcGxpYW5jZSB3aXRoIHRoZSBMaWNlbnNlLgovLyBZb3UgbWF5IG9idGFpbiBhIGNvcHkgb2YgdGhlIExpY2Vuc2UgYXQKLy8KLy8gICAgICBodHRwOi8vd3d3LmFwYWNoZS5vcmcvbGljZW5zZXMvTElDRU5TRS0yLjAKLy8KLy8gVW5sZXNzIHJlcXVpcmVkIGJ5IGFwcGxpY2FibGUgbGF3IG9yIGFncmVlZCB0byBpbiB3cml0aW5nLCBzb2Z0d2FyZQovLyBkaXN0cmlidXRlZCB1bmRlciB0aGUgTGljZW5zZSBpcyBkaXN0cmlidXRlZCBvbiBhbiAiQVMgSVMiIEJBU0lTLAovLyBXSVRIT1VUIFdBUlJBTlRJRVMgT1IgQ09ORElUSU9OUyBPRiBBTlkgS0lORCwgZWl0aGVyIGV4cHJlc3Mgb3IgaW1wbGllZC4KLy8gU2VlIHRoZSBMaWNlbnNlIGZvciB0aGUgc3BlY2lmaWMgbGFuZ3VhZ2UgZ292ZXJuaW5nIHBlcm1pc3Npb25zIGFuZAovLyBsaW1pdGF0aW9ucyB1bmRlciB0aGUgTGljZW5zZS4KCi8qKgogKiBAZmlsZW92ZXJ2aWV3IEhlbHBlcnMgZm9yIGdvb2dsZS5jb2xhYiBQeXRob24gbW9kdWxlLgogKi8KKGZ1bmN0aW9uKHNjb3BlKSB7CmZ1bmN0aW9uIHNwYW4odGV4dCwgc3R5bGVBdHRyaWJ1dGVzID0ge30pIHsKICBjb25zdCBlbGVtZW50ID0gZG9jdW1lbnQuY3JlYXRlRWxlbWVudCgnc3BhbicpOwogIGVsZW1lbnQudGV4dENvbnRlbnQgPSB0ZXh0OwogIGZvciAoY29uc3Qga2V5IG9mIE9iamVjdC5rZXlzKHN0eWxlQXR0cmlidXRlcykpIHsKICAgIGVsZW1lbnQuc3R5bGVba2V5XSA9IHN0eWxlQXR0cmlidXRlc1trZXldOwogIH0KICByZXR1cm4gZWxlbWVudDsKfQoKLy8gTWF4IG51bWJlciBvZiBieXRlcyB3aGljaCB3aWxsIGJlIHVwbG9hZGVkIGF0IGEgdGltZS4KY29uc3QgTUFYX1BBWUxPQURfU0laRSA9IDEwMCAqIDEwMjQ7Ci8vIE1heCBhbW91bnQgb2YgdGltZSB0byBibG9jayB3YWl0aW5nIGZvciB0aGUgdXNlci4KY29uc3QgRklMRV9DSEFOR0VfVElNRU9VVF9NUyA9IDMwICogMTAwMDsKCmZ1bmN0aW9uIF91cGxvYWRGaWxlcyhpbnB1dElkLCBvdXRwdXRJZCkgewogIGNvbnN0IHN0ZXBzID0gdXBsb2FkRmlsZXNTdGVwKGlucHV0SWQsIG91dHB1dElkKTsKICBjb25zdCBvdXRwdXRFbGVtZW50ID0gZG9jdW1lbnQuZ2V0RWxlbWVudEJ5SWQob3V0cHV0SWQpOwogIC8vIENhY2hlIHN0ZXBzIG9uIHRoZSBvdXRwdXRFbGVtZW50IHRvIG1ha2UgaXQgYXZhaWxhYmxlIGZvciB0aGUgbmV4dCBjYWxsCiAgLy8gdG8gdXBsb2FkRmlsZXNDb250aW51ZSBmcm9tIFB5dGhvbi4KICBvdXRwdXRFbGVtZW50LnN0ZXBzID0gc3RlcHM7CgogIHJldHVybiBfdXBsb2FkRmlsZXNDb250aW51ZShvdXRwdXRJZCk7Cn0KCi8vIFRoaXMgaXMgcm91Z2hseSBhbiBhc3luYyBnZW5lcmF0b3IgKG5vdCBzdXBwb3J0ZWQgaW4gdGhlIGJyb3dzZXIgeWV0KSwKLy8gd2hlcmUgdGhlcmUgYXJlIG11bHRpcGxlIGFzeW5jaHJvbm91cyBzdGVwcyBhbmQgdGhlIFB5dGhvbiBzaWRlIGlzIGdvaW5nCi8vIHRvIHBvbGwgZm9yIGNvbXBsZXRpb24gb2YgZWFjaCBzdGVwLgovLyBUaGlzIHVzZXMgYSBQcm9taXNlIHRvIGJsb2NrIHRoZSBweXRob24gc2lkZSBvbiBjb21wbGV0aW9uIG9mIGVhY2ggc3RlcCwKLy8gdGhlbiBwYXNzZXMgdGhlIHJlc3VsdCBvZiB0aGUgcHJldmlvdXMgc3RlcCBhcyB0aGUgaW5wdXQgdG8gdGhlIG5leHQgc3RlcC4KZnVuY3Rpb24gX3VwbG9hZEZpbGVzQ29udGludWUob3V0cHV0SWQpIHsKICBjb25zdCBvdXRwdXRFbGVtZW50ID0gZG9jdW1lbnQuZ2V0RWxlbWVudEJ5SWQob3V0cHV0SWQpOwogIGNvbnN0IHN0ZXBzID0gb3V0cHV0RWxlbWVudC5zdGVwczsKCiAgY29uc3QgbmV4dCA9IHN0ZXBzLm5leHQob3V0cHV0RWxlbWVudC5sYXN0UHJvbWlzZVZhbHVlKTsKICByZXR1cm4gUHJvbWlzZS5yZXNvbHZlKG5leHQudmFsdWUucHJvbWlzZSkudGhlbigodmFsdWUpID0+IHsKICAgIC8vIENhY2hlIHRoZSBsYXN0IHByb21pc2UgdmFsdWUgdG8gbWFrZSBpdCBhdmFpbGFibGUgdG8gdGhlIG5leHQKICAgIC8vIHN0ZXAgb2YgdGhlIGdlbmVyYXRvci4KICAgIG91dHB1dEVsZW1lbnQubGFzdFByb21pc2VWYWx1ZSA9IHZhbHVlOwogICAgcmV0dXJuIG5leHQudmFsdWUucmVzcG9uc2U7CiAgfSk7Cn0KCi8qKgogKiBHZW5lcmF0b3IgZnVuY3Rpb24gd2hpY2ggaXMgY2FsbGVkIGJldHdlZW4gZWFjaCBhc3luYyBzdGVwIG9mIHRoZSB1cGxvYWQKICogcHJvY2Vzcy4KICogQHBhcmFtIHtzdHJpbmd9IGlucHV0SWQgRWxlbWVudCBJRCBvZiB0aGUgaW5wdXQgZmlsZSBwaWNrZXIgZWxlbWVudC4KICogQHBhcmFtIHtzdHJpbmd9IG91dHB1dElkIEVsZW1lbnQgSUQgb2YgdGhlIG91dHB1dCBkaXNwbGF5LgogKiBAcmV0dXJuIHshSXRlcmFibGU8IU9iamVjdD59IEl0ZXJhYmxlIG9mIG5leHQgc3RlcHMuCiAqLwpmdW5jdGlvbiogdXBsb2FkRmlsZXNTdGVwKGlucHV0SWQsIG91dHB1dElkKSB7CiAgY29uc3QgaW5wdXRFbGVtZW50ID0gZG9jdW1lbnQuZ2V0RWxlbWVudEJ5SWQoaW5wdXRJZCk7CiAgaW5wdXRFbGVtZW50LmRpc2FibGVkID0gZmFsc2U7CgogIGNvbnN0IG91dHB1dEVsZW1lbnQgPSBkb2N1bWVudC5nZXRFbGVtZW50QnlJZChvdXRwdXRJZCk7CiAgb3V0cHV0RWxlbWVudC5pbm5lckhUTUwgPSAnJzsKCiAgY29uc3QgcGlja2VkUHJvbWlzZSA9IG5ldyBQcm9taXNlKChyZXNvbHZlKSA9PiB7CiAgICBpbnB1dEVsZW1lbnQuYWRkRXZlbnRMaXN0ZW5lcignY2hhbmdlJywgKGUpID0+IHsKICAgICAgcmVzb2x2ZShlLnRhcmdldC5maWxlcyk7CiAgICB9KTsKICB9KTsKCiAgY29uc3QgY2FuY2VsID0gZG9jdW1lbnQuY3JlYXRlRWxlbWVudCgnYnV0dG9uJyk7CiAgaW5wdXRFbGVtZW50LnBhcmVudEVsZW1lbnQuYXBwZW5kQ2hpbGQoY2FuY2VsKTsKICBjYW5jZWwudGV4dENvbnRlbnQgPSAnQ2FuY2VsIHVwbG9hZCc7CiAgY29uc3QgY2FuY2VsUHJvbWlzZSA9IG5ldyBQcm9taXNlKChyZXNvbHZlKSA9PiB7CiAgICBjYW5jZWwub25jbGljayA9ICgpID0+IHsKICAgICAgcmVzb2x2ZShudWxsKTsKICAgIH07CiAgfSk7CgogIC8vIENhbmNlbCB1cGxvYWQgaWYgdXNlciBoYXNuJ3QgcGlja2VkIGFueXRoaW5nIGluIHRpbWVvdXQuCiAgY29uc3QgdGltZW91dFByb21pc2UgPSBuZXcgUHJvbWlzZSgocmVzb2x2ZSkgPT4gewogICAgc2V0VGltZW91dCgoKSA9PiB7CiAgICAgIHJlc29sdmUobnVsbCk7CiAgICB9LCBGSUxFX0NIQU5HRV9USU1FT1VUX01TKTsKICB9KTsKCiAgLy8gV2FpdCBmb3IgdGhlIHVzZXIgdG8gcGljayB0aGUgZmlsZXMuCiAgY29uc3QgZmlsZXMgPSB5aWVsZCB7CiAgICBwcm9taXNlOiBQcm9taXNlLnJhY2UoW3BpY2tlZFByb21pc2UsIHRpbWVvdXRQcm9taXNlLCBjYW5jZWxQcm9taXNlXSksCiAgICByZXNwb25zZTogewogICAgICBhY3Rpb246ICdzdGFydGluZycsCiAgICB9CiAgfTsKCiAgaWYgKCFmaWxlcykgewogICAgcmV0dXJuIHsKICAgICAgcmVzcG9uc2U6IHsKICAgICAgICBhY3Rpb246ICdjb21wbGV0ZScsCiAgICAgIH0KICAgIH07CiAgfQoKICBjYW5jZWwucmVtb3ZlKCk7CgogIC8vIERpc2FibGUgdGhlIGlucHV0IGVsZW1lbnQgc2luY2UgZnVydGhlciBwaWNrcyBhcmUgbm90IGFsbG93ZWQuCiAgaW5wdXRFbGVtZW50LmRpc2FibGVkID0gdHJ1ZTsKCiAgZm9yIChjb25zdCBmaWxlIG9mIGZpbGVzKSB7CiAgICBjb25zdCBsaSA9IGRvY3VtZW50LmNyZWF0ZUVsZW1lbnQoJ2xpJyk7CiAgICBsaS5hcHBlbmQoc3BhbihmaWxlLm5hbWUsIHtmb250V2VpZ2h0OiAnYm9sZCd9KSk7CiAgICBsaS5hcHBlbmQoc3BhbigKICAgICAgICBgKCR7ZmlsZS50eXBlIHx8ICduL2EnfSkgLSAke2ZpbGUuc2l6ZX0gYnl0ZXMsIGAgKwogICAgICAgIGBsYXN0IG1vZGlmaWVkOiAkewogICAgICAgICAgICBmaWxlLmxhc3RNb2RpZmllZERhdGUgPyBmaWxlLmxhc3RNb2RpZmllZERhdGUudG9Mb2NhbGVEYXRlU3RyaW5nKCkgOgogICAgICAgICAgICAgICAgICAgICAgICAgICAgICAgICAgICAnbi9hJ30gLSBgKSk7CiAgICBjb25zdCBwZXJjZW50ID0gc3BhbignMCUgZG9uZScpOwogICAgbGkuYXBwZW5kQ2hpbGQocGVyY2VudCk7CgogICAgb3V0cHV0RWxlbWVudC5hcHBlbmRDaGlsZChsaSk7CgogICAgY29uc3QgZmlsZURhdGFQcm9taXNlID0gbmV3IFByb21pc2UoKHJlc29sdmUpID0+IHsKICAgICAgY29uc3QgcmVhZGVyID0gbmV3IEZpbGVSZWFkZXIoKTsKICAgICAgcmVhZGVyLm9ubG9hZCA9IChlKSA9PiB7CiAgICAgICAgcmVzb2x2ZShlLnRhcmdldC5yZXN1bHQpOwogICAgICB9OwogICAgICByZWFkZXIucmVhZEFzQXJyYXlCdWZmZXIoZmlsZSk7CiAgICB9KTsKICAgIC8vIFdhaXQgZm9yIHRoZSBkYXRhIHRvIGJlIHJlYWR5LgogICAgbGV0IGZpbGVEYXRhID0geWllbGQgewogICAgICBwcm9taXNlOiBmaWxlRGF0YVByb21pc2UsCiAgICAgIHJlc3BvbnNlOiB7CiAgICAgICAgYWN0aW9uOiAnY29udGludWUnLAogICAgICB9CiAgICB9OwoKICAgIC8vIFVzZSBhIGNodW5rZWQgc2VuZGluZyB0byBhdm9pZCBtZXNzYWdlIHNpemUgbGltaXRzLiBTZWUgYi82MjExNTY2MC4KICAgIGxldCBwb3NpdGlvbiA9IDA7CiAgICB3aGlsZSAocG9zaXRpb24gPCBmaWxlRGF0YS5ieXRlTGVuZ3RoKSB7CiAgICAgIGNvbnN0IGxlbmd0aCA9IE1hdGgubWluKGZpbGVEYXRhLmJ5dGVMZW5ndGggLSBwb3NpdGlvbiwgTUFYX1BBWUxPQURfU0laRSk7CiAgICAgIGNvbnN0IGNodW5rID0gbmV3IFVpbnQ4QXJyYXkoZmlsZURhdGEsIHBvc2l0aW9uLCBsZW5ndGgpOwogICAgICBwb3NpdGlvbiArPSBsZW5ndGg7CgogICAgICBjb25zdCBiYXNlNjQgPSBidG9hKFN0cmluZy5mcm9tQ2hhckNvZGUuYXBwbHkobnVsbCwgY2h1bmspKTsKICAgICAgeWllbGQgewogICAgICAgIHJlc3BvbnNlOiB7CiAgICAgICAgICBhY3Rpb246ICdhcHBlbmQnLAogICAgICAgICAgZmlsZTogZmlsZS5uYW1lLAogICAgICAgICAgZGF0YTogYmFzZTY0LAogICAgICAgIH0sCiAgICAgIH07CiAgICAgIHBlcmNlbnQudGV4dENvbnRlbnQgPQogICAgICAgICAgYCR7TWF0aC5yb3VuZCgocG9zaXRpb24gLyBmaWxlRGF0YS5ieXRlTGVuZ3RoKSAqIDEwMCl9JSBkb25lYDsKICAgIH0KICB9CgogIC8vIEFsbCBkb25lLgogIHlpZWxkIHsKICAgIHJlc3BvbnNlOiB7CiAgICAgIGFjdGlvbjogJ2NvbXBsZXRlJywKICAgIH0KICB9Owp9CgpzY29wZS5nb29nbGUgPSBzY29wZS5nb29nbGUgfHwge307CnNjb3BlLmdvb2dsZS5jb2xhYiA9IHNjb3BlLmdvb2dsZS5jb2xhYiB8fCB7fTsKc2NvcGUuZ29vZ2xlLmNvbGFiLl9maWxlcyA9IHsKICBfdXBsb2FkRmlsZXMsCiAgX3VwbG9hZEZpbGVzQ29udGludWUsCn07Cn0pKHNlbGYpOwo=",
              "ok": true,
              "headers": [
                [
                  "content-type",
                  "application/javascript"
                ]
              ],
              "status": 200,
              "status_text": ""
            }
          },
          "base_uri": "https://localhost:8080/",
          "height": 72
        },
        "outputId": "59474884-e1c5-4727-b389-42ed0694a76b"
      },
      "cell_type": "code",
      "source": [
        "uploaded = files.upload()"
      ],
      "execution_count": 9,
      "outputs": [
        {
          "output_type": "display_data",
          "data": {
            "text/html": [
              "\n",
              "     <input type=\"file\" id=\"files-2aa1e155-04a5-4a07-9d11-aad907c37467\" name=\"files[]\" multiple disabled />\n",
              "     <output id=\"result-2aa1e155-04a5-4a07-9d11-aad907c37467\">\n",
              "      Upload widget is only available when the cell has been executed in the\n",
              "      current browser session. Please rerun this cell to enable.\n",
              "      </output>\n",
              "      <script src=\"/nbextensions/google.colab/files.js\"></script> "
            ],
            "text/plain": [
              "<IPython.core.display.HTML object>"
            ]
          },
          "metadata": {
            "tags": []
          }
        },
        {
          "output_type": "stream",
          "text": [
            "Saving processed_target.csv to processed_target.csv\n"
          ],
          "name": "stdout"
        }
      ]
    },
    {
      "metadata": {
        "id": "fWNA_AUBMHXC",
        "colab_type": "code",
        "colab": {}
      },
      "cell_type": "code",
      "source": [
        "m = pd.read_csv('processed.csv')\n",
        "m_target = pd.read_csv('processed_target.csv', header=None)"
      ],
      "execution_count": 0,
      "outputs": []
    },
    {
      "metadata": {
        "id": "tAtMScwmZZmK",
        "colab_type": "code",
        "colab": {
          "base_uri": "https://localhost:8080/",
          "height": 51
        },
        "outputId": "01bee0fa-98be-4250-83d9-3661d93323b4"
      },
      "cell_type": "code",
      "source": [
        "print(len(m))\n",
        "print(len(m_target))"
      ],
      "execution_count": 11,
      "outputs": [
        {
          "output_type": "stream",
          "text": [
            "178665\n",
            "178665\n"
          ],
          "name": "stdout"
        }
      ]
    },
    {
      "metadata": {
        "id": "EhVp1ENkOvki",
        "colab_type": "code",
        "colab": {
          "base_uri": "https://localhost:8080/",
          "height": 340
        },
        "outputId": "f1bae5e4-ae55-472d-97f7-919f590c1cdf"
      },
      "cell_type": "code",
      "source": [
        "m.columns"
      ],
      "execution_count": 12,
      "outputs": [
        {
          "output_type": "execute_result",
          "data": {
            "text/plain": [
              "Index(['0', '1', '10', '11', '12', '13', '14', '15', '16', '17', '18', '19',\n",
              "       '2', '20', '21', '22', '23', '3', '4', '5', '6', '7', '8', '9',\n",
              "       'ANDROID-BOOKS_AND_REFERENCE', 'ANDROID-COMMUNICATION',\n",
              "       'ANDROID-DATING', 'ANDROID-ENTERTAINMENT', 'ANDROID-GAME_ACTION',\n",
              "       'ANDROID-GAME_ADVENTURE', 'ANDROID-GAME_ARCADE', 'ANDROID-GAME_BOARD',\n",
              "       'ANDROID-GAME_CARD', 'ANDROID-GAME_CASINO', 'ANDROID-GAME_CASUAL',\n",
              "       'ANDROID-GAME_MUSIC', 'ANDROID-GAME_PUZZLE', 'ANDROID-GAME_RACING',\n",
              "       'ANDROID-GAME_ROLE_PLAYING', 'ANDROID-GAME_SIMULATION',\n",
              "       'ANDROID-GAME_SPORTS', 'ANDROID-GAME_STRATEGY', 'ANDROID-GAME_TRIVIA',\n",
              "       'ANDROID-GAME_WORD', 'ANDROID-HEALTH_AND_FITNESS', 'ANDROID-LIFESTYLE',\n",
              "       'ANDROID-MAPS_AND_NAVIGATION', 'ANDROID-MUSIC_AND_AUDIO',\n",
              "       'ANDROID-NEWS_AND_MAGAZINES', 'ANDROID-PERSONALIZATION',\n",
              "       'ANDROID-PHOTOGRAPHY', 'ANDROID-PRODUCTIVITY', 'ANDROID-SOCIAL',\n",
              "       'ANDROID-SPORTS', 'ANDROID-TOOLS', 'ANDROID-TRAVEL_AND_LOCAL',\n",
              "       'ANDROID-VIDEO_PLAYERS', 'ANDROID-WEATHER', 'CELLULAR', 'WIFI', 'brq',\n",
              "       'datepart_other', 'device_category_SMART PHONE',\n",
              "       'device_category_TABLET', 'distinctasn', 'distinctloc', 'gender_F',\n",
              "       'gender_M', 'home', 'num_days', 'rog_m', 'total_loc_brq', 'work'],\n",
              "      dtype='object')"
            ]
          },
          "metadata": {
            "tags": []
          },
          "execution_count": 12
        }
      ]
    },
    {
      "metadata": {
        "id": "aHo6T9FyRBos",
        "colab_type": "code",
        "colab": {}
      },
      "cell_type": "code",
      "source": [
        "X = m\n",
        "Y = m_target"
      ],
      "execution_count": 0,
      "outputs": []
    },
    {
      "metadata": {
        "id": "T--Xae8_TgIZ",
        "colab_type": "code",
        "colab": {
          "base_uri": "https://localhost:8080/",
          "height": 34
        },
        "outputId": "e772444c-6906-4a08-d478-97f3bd488227"
      },
      "cell_type": "code",
      "source": [
        "input_len = len(X.columns)\n",
        "print(input_len)"
      ],
      "execution_count": 14,
      "outputs": [
        {
          "output_type": "stream",
          "text": [
            "73\n"
          ],
          "name": "stdout"
        }
      ]
    },
    {
      "metadata": {
        "id": "aAUNAfcvYF-B",
        "colab_type": "code",
        "colab": {}
      },
      "cell_type": "code",
      "source": [
        "def coeff_determination(y_true, y_pred):\n",
        "    SS_res =  K.sum(K.square( y_true-y_pred )) \n",
        "    SS_tot = K.sum(K.square( y_true - K.mean(y_true) ) ) \n",
        "    return ( 1 - SS_res/(SS_tot + K.epsilon()) )\n",
        "  \n",
        "def root_mean_squared_error(y_true, y_pred):\n",
        "  return K.sqrt(K.mean(K.square(y_pred - y_true), axis=-1))"
      ],
      "execution_count": 0,
      "outputs": []
    },
    {
      "metadata": {
        "id": "e3zpl0YLRpXR",
        "colab_type": "code",
        "colab": {
          "base_uri": "https://localhost:8080/",
          "height": 272
        },
        "outputId": "5ddffaa1-fb90-439c-da5d-b1d52f774ded"
      },
      "cell_type": "code",
      "source": [
        "# Model Params\n",
        "batch_size = 100\n",
        "epochs = 100\n",
        "\n",
        "# create baseline_model\n",
        "model = Sequential()\n",
        "model.add(Dense(80, input_dim=input_len, kernel_initializer='RandomNormal', activation='relu'))\n",
        "model.add(Dense(40, activation='relu'))\n",
        "model.add(Dense(20, activation='relu'))\n",
        "model.add(Dense(1))\n",
        "model.compile(loss=['mape'], optimizer='adam', metrics=[coeff_determination,root_mean_squared_error])\n",
        "model.summary()"
      ],
      "execution_count": 28,
      "outputs": [
        {
          "output_type": "stream",
          "text": [
            "_________________________________________________________________\n",
            "Layer (type)                 Output Shape              Param #   \n",
            "=================================================================\n",
            "dense_17 (Dense)             (None, 80)                5920      \n",
            "_________________________________________________________________\n",
            "dense_18 (Dense)             (None, 40)                3240      \n",
            "_________________________________________________________________\n",
            "dense_19 (Dense)             (None, 20)                820       \n",
            "_________________________________________________________________\n",
            "dense_20 (Dense)             (None, 1)                 21        \n",
            "=================================================================\n",
            "Total params: 10,001\n",
            "Trainable params: 10,001\n",
            "Non-trainable params: 0\n",
            "_________________________________________________________________\n"
          ],
          "name": "stdout"
        }
      ]
    },
    {
      "metadata": {
        "id": "DUfueOPmU_3M",
        "colab_type": "code",
        "colab": {
          "base_uri": "https://localhost:8080/",
          "height": 3896
        },
        "outputId": "1a90e707-ebd5-4572-e03a-3e7afb38bc63"
      },
      "cell_type": "code",
      "source": [
        "early_stopping = EarlyStopping(patience=15, verbose=1)\n",
        "checkpointer = ModelCheckpoint(filepath=r'age_prediction.hdf5', \n",
        "                               verbose=1, \n",
        "                               save_best_only=True)\n",
        "\n",
        "model.fit(X, Y, \n",
        "          batch_size=batch_size, \n",
        "          epochs = epochs, \n",
        "          verbose=1,\n",
        "          shuffle=True,\n",
        "          validation_split=0.1,\n",
        "         callbacks=[early_stopping, checkpointer])"
      ],
      "execution_count": 29,
      "outputs": [
        {
          "output_type": "stream",
          "text": [
            "Train on 160798 samples, validate on 17867 samples\n",
            "Epoch 1/100\n",
            "160798/160798 [==============================] - 12s 73us/step - loss: 45.3582 - coeff_determination: -2.7480 - root_mean_squared_error: 13.5884 - val_loss: 29.0453 - val_coeff_determination: -0.5846 - val_root_mean_squared_error: 9.2588\n",
            "\n",
            "Epoch 00001: val_loss improved from inf to 29.04533, saving model to age_prediction.hdf5\n",
            "Epoch 2/100\n",
            " 80000/160798 [=============>................] - ETA: 5s - loss: 30.1237 - coeff_determination: -0.7661 - root_mean_squared_error: 9.5207"
          ],
          "name": "stdout"
        },
        {
          "output_type": "stream",
          "text": [
            "160798/160798 [==============================] - 12s 74us/step - loss: 28.8598 - coeff_determination: -0.6726 - root_mean_squared_error: 9.1748 - val_loss: 27.9466 - val_coeff_determination: -0.6463 - val_root_mean_squared_error: 8.9961\n",
            "\n",
            "Epoch 00002: val_loss improved from 29.04533 to 27.94662, saving model to age_prediction.hdf5\n",
            "Epoch 3/100\n",
            "133000/160798 [=======================>......] - ETA: 1s - loss: 25.8297 - coeff_determination: -0.4337 - root_mean_squared_error: 8.3665"
          ],
          "name": "stdout"
        },
        {
          "output_type": "stream",
          "text": [
            "160798/160798 [==============================] - 12s 73us/step - loss: 25.7784 - coeff_determination: -0.4328 - root_mean_squared_error: 8.3520 - val_loss: 26.8269 - val_coeff_determination: -0.6486 - val_root_mean_squared_error: 9.1574\n",
            "\n",
            "Epoch 00003: val_loss improved from 27.94662 to 26.82685, saving model to age_prediction.hdf5\n",
            "Epoch 4/100\n",
            "146900/160798 [==========================>...] - ETA: 0s - loss: 23.9125 - coeff_determination: -0.3065 - root_mean_squared_error: 7.8602"
          ],
          "name": "stdout"
        },
        {
          "output_type": "stream",
          "text": [
            "160798/160798 [==============================] - 12s 74us/step - loss: 23.8424 - coeff_determination: -0.3017 - root_mean_squared_error: 7.8426 - val_loss: 28.5877 - val_coeff_determination: -0.4561 - val_root_mean_squared_error: 8.4903\n",
            "\n",
            "Epoch 00004: val_loss did not improve from 26.82685\n",
            "Epoch 5/100\n",
            "160798/160798 [==============================] - 12s 73us/step - loss: 22.8678 - coeff_determination: -0.2436 - root_mean_squared_error: 7.5837 - val_loss: 21.9703 - val_coeff_determination: -0.2453 - val_root_mean_squared_error: 7.5621\n",
            "\n",
            "Epoch 00005: val_loss improved from 26.82685 to 21.97026, saving model to age_prediction.hdf5\n",
            "Epoch 6/100\n",
            "  2400/160798 [..............................] - ETA: 11s - loss: 21.5003 - coeff_determination: -0.1601 - root_mean_squared_error: 7.2588"
          ],
          "name": "stdout"
        },
        {
          "output_type": "stream",
          "text": [
            "160798/160798 [==============================] - 12s 73us/step - loss: 22.0507 - coeff_determination: -0.1970 - root_mean_squared_error: 7.3805 - val_loss: 21.3558 - val_coeff_determination: -0.1650 - val_root_mean_squared_error: 7.3042\n",
            "\n",
            "Epoch 00006: val_loss improved from 21.97026 to 21.35584, saving model to age_prediction.hdf5\n",
            "Epoch 7/100\n",
            "110900/160798 [===================>..........] - ETA: 3s - loss: 21.7516 - coeff_determination: -0.1830 - root_mean_squared_error: 7.3012"
          ],
          "name": "stdout"
        },
        {
          "output_type": "stream",
          "text": [
            "160798/160798 [==============================] - 12s 73us/step - loss: 21.6844 - coeff_determination: -0.1776 - root_mean_squared_error: 7.2890 - val_loss: 21.3613 - val_coeff_determination: -0.2432 - val_root_mean_squared_error: 7.4977\n",
            "\n",
            "Epoch 00007: val_loss did not improve from 21.35584\n",
            "Epoch 8/100\n",
            "155600/160798 [============================>.] - ETA: 0s - loss: 21.2769 - coeff_determination: -0.1547 - root_mean_squared_error: 7.1771"
          ],
          "name": "stdout"
        },
        {
          "output_type": "stream",
          "text": [
            "160798/160798 [==============================] - 12s 73us/step - loss: 21.2734 - coeff_determination: -0.1540 - root_mean_squared_error: 7.1750 - val_loss: 20.7253 - val_coeff_determination: -0.1322 - val_root_mean_squared_error: 7.1095\n",
            "\n",
            "Epoch 00008: val_loss improved from 21.35584 to 20.72527, saving model to age_prediction.hdf5\n",
            "Epoch 9/100\n",
            "153700/160798 [===========================>..] - ETA: 0s - loss: 21.1961 - coeff_determination: -0.1480 - root_mean_squared_error: 7.1529"
          ],
          "name": "stdout"
        },
        {
          "output_type": "stream",
          "text": [
            "160798/160798 [==============================] - 12s 74us/step - loss: 21.1955 - coeff_determination: -0.1476 - root_mean_squared_error: 7.1514 - val_loss: 20.7724 - val_coeff_determination: -0.0931 - val_root_mean_squared_error: 7.0256\n",
            "\n",
            "Epoch 00009: val_loss did not improve from 20.72527\n",
            "Epoch 10/100\n",
            "160798/160798 [==============================] - 12s 73us/step - loss: 20.9530 - coeff_determination: -0.1255 - root_mean_squared_error: 7.0595 - val_loss: 22.0103 - val_coeff_determination: -0.3249 - val_root_mean_squared_error: 7.8187\n",
            "\n",
            "Epoch 00010: val_loss did not improve from 20.72527\n",
            "Epoch 11/100\n",
            "  4000/160798 [..............................] - ETA: 11s - loss: 22.0125 - coeff_determination: -0.2086 - root_mean_squared_error: 7.5705"
          ],
          "name": "stdout"
        },
        {
          "output_type": "stream",
          "text": [
            "160798/160798 [==============================] - 12s 73us/step - loss: 20.7041 - coeff_determination: -0.1118 - root_mean_squared_error: 6.9857 - val_loss: 20.6765 - val_coeff_determination: -0.0799 - val_root_mean_squared_error: 6.9569\n",
            "\n",
            "Epoch 00011: val_loss improved from 20.72527 to 20.67653, saving model to age_prediction.hdf5\n",
            "Epoch 12/100\n",
            "111200/160798 [===================>..........] - ETA: 3s - loss: 20.5803 - coeff_determination: -0.1033 - root_mean_squared_error: 6.9366"
          ],
          "name": "stdout"
        },
        {
          "output_type": "stream",
          "text": [
            "160798/160798 [==============================] - 12s 73us/step - loss: 20.6299 - coeff_determination: -0.1088 - root_mean_squared_error: 6.9612 - val_loss: 20.8239 - val_coeff_determination: -0.1330 - val_root_mean_squared_error: 7.1377\n",
            "\n",
            "Epoch 00012: val_loss did not improve from 20.67653\n",
            "Epoch 13/100\n",
            "155900/160798 [============================>.] - ETA: 0s - loss: 20.5270 - coeff_determination: -0.1001 - root_mean_squared_error: 6.9278"
          ],
          "name": "stdout"
        },
        {
          "output_type": "stream",
          "text": [
            "160798/160798 [==============================] - 12s 73us/step - loss: 20.5170 - coeff_determination: -0.0989 - root_mean_squared_error: 6.9193 - val_loss: 20.4657 - val_coeff_determination: -0.0726 - val_root_mean_squared_error: 6.9049\n",
            "\n",
            "Epoch 00013: val_loss improved from 20.67653 to 20.46572, saving model to age_prediction.hdf5\n",
            "Epoch 14/100\n",
            "154100/160798 [===========================>..] - ETA: 0s - loss: 20.4781 - coeff_determination: -0.0974 - root_mean_squared_error: 6.9025"
          ],
          "name": "stdout"
        },
        {
          "output_type": "stream",
          "text": [
            "160798/160798 [==============================] - 12s 73us/step - loss: 20.4672 - coeff_determination: -0.0968 - root_mean_squared_error: 6.9020 - val_loss: 20.7184 - val_coeff_determination: -0.0402 - val_root_mean_squared_error: 6.8573\n",
            "\n",
            "Epoch 00014: val_loss did not improve from 20.46572\n",
            "Epoch 15/100\n",
            "160798/160798 [==============================] - 12s 73us/step - loss: 20.3869 - coeff_determination: -0.0881 - root_mean_squared_error: 6.8675 - val_loss: 20.6480 - val_coeff_determination: -0.1788 - val_root_mean_squared_error: 7.2056\n",
            "\n",
            "Epoch 00015: val_loss did not improve from 20.46572\n",
            "Epoch 16/100\n",
            "  4700/160798 [..............................] - ETA: 11s - loss: 20.7000 - coeff_determination: -0.1058 - root_mean_squared_error: 7.0126"
          ],
          "name": "stdout"
        },
        {
          "output_type": "stream",
          "text": [
            "160798/160798 [==============================] - 12s 74us/step - loss: 20.3337 - coeff_determination: -0.0849 - root_mean_squared_error: 6.8501 - val_loss: 20.1746 - val_coeff_determination: -0.1230 - val_root_mean_squared_error: 6.9934\n",
            "\n",
            "Epoch 00016: val_loss improved from 20.46572 to 20.17464, saving model to age_prediction.hdf5\n",
            "Epoch 17/100\n",
            "108500/160798 [===================>..........] - ETA: 3s - loss: 20.2568 - coeff_determination: -0.0822 - root_mean_squared_error: 6.8309"
          ],
          "name": "stdout"
        },
        {
          "output_type": "stream",
          "text": [
            "160798/160798 [==============================] - 12s 74us/step - loss: 20.3254 - coeff_determination: -0.0832 - root_mean_squared_error: 6.8418 - val_loss: 20.0736 - val_coeff_determination: -0.0523 - val_root_mean_squared_error: 6.7864\n",
            "\n",
            "Epoch 00017: val_loss improved from 20.17464 to 20.07361, saving model to age_prediction.hdf5\n",
            "Epoch 18/100\n",
            "139600/160798 [=========================>....] - ETA: 1s - loss: 20.2243 - coeff_determination: -0.0772 - root_mean_squared_error: 6.8174"
          ],
          "name": "stdout"
        },
        {
          "output_type": "stream",
          "text": [
            "160798/160798 [==============================] - 12s 74us/step - loss: 20.2575 - coeff_determination: -0.0789 - root_mean_squared_error: 6.8236 - val_loss: 20.2655 - val_coeff_determination: -0.0998 - val_root_mean_squared_error: 6.9227\n",
            "\n",
            "Epoch 00018: val_loss did not improve from 20.07361\n",
            "Epoch 19/100\n",
            "160798/160798 [==============================] - 12s 74us/step - loss: 20.2289 - coeff_determination: -0.0768 - root_mean_squared_error: 6.8126 - val_loss: 19.9984 - val_coeff_determination: -0.0610 - val_root_mean_squared_error: 6.7997\n"
          ],
          "name": "stdout"
        },
        {
          "output_type": "stream",
          "text": [
            "\n",
            "Epoch 00019: val_loss improved from 20.07361 to 19.99835, saving model to age_prediction.hdf5\n",
            "Epoch 20/100\n",
            "160798/160798 [==============================] - 12s 75us/step - loss: 20.2116 - coeff_determination: -0.0756 - root_mean_squared_error: 6.8075 - val_loss: 20.1677 - val_coeff_determination: -0.0967 - val_root_mean_squared_error: 6.9176\n",
            "\n",
            "Epoch 00020: val_loss did not improve from 19.99835\n",
            "Epoch 21/100\n",
            " 62000/160798 [==========>...................] - ETA: 7s - loss: 20.2056 - coeff_determination: -0.0715 - root_mean_squared_error: 6.7941"
          ],
          "name": "stdout"
        },
        {
          "output_type": "stream",
          "text": [
            "160798/160798 [==============================] - 12s 75us/step - loss: 20.2264 - coeff_determination: -0.0753 - root_mean_squared_error: 6.8090 - val_loss: 20.0551 - val_coeff_determination: -0.0290 - val_root_mean_squared_error: 6.7264\n",
            "\n",
            "Epoch 00021: val_loss did not improve from 19.99835\n",
            "Epoch 22/100\n",
            "137400/160798 [========================>.....] - ETA: 1s - loss: 20.1395 - coeff_determination: -0.0687 - root_mean_squared_error: 6.7841"
          ],
          "name": "stdout"
        },
        {
          "output_type": "stream",
          "text": [
            "160798/160798 [==============================] - 12s 74us/step - loss: 20.1384 - coeff_determination: -0.0698 - root_mean_squared_error: 6.7819 - val_loss: 20.4220 - val_coeff_determination: 5.1806e-04 - val_root_mean_squared_error: 6.7210\n",
            "\n",
            "Epoch 00022: val_loss did not improve from 19.99835\n",
            "Epoch 23/100\n",
            "160798/160798 [==============================] - 12s 74us/step - loss: 20.1682 - coeff_determination: -0.0706 - root_mean_squared_error: 6.7879 - val_loss: 21.0171 - val_coeff_determination: 0.0105 - val_root_mean_squared_error: 6.7478\n"
          ],
          "name": "stdout"
        },
        {
          "output_type": "stream",
          "text": [
            "\n",
            "Epoch 00023: val_loss did not improve from 19.99835\n",
            "Epoch 24/100\n",
            "160798/160798 [==============================] - 12s 73us/step - loss: 20.1546 - coeff_determination: -0.0702 - root_mean_squared_error: 6.7813 - val_loss: 20.0990 - val_coeff_determination: -0.0203 - val_root_mean_squared_error: 6.7143\n",
            "\n",
            "Epoch 00024: val_loss did not improve from 19.99835\n",
            "Epoch 25/100\n",
            " 81100/160798 [==============>...............] - ETA: 5s - loss: 20.1475 - coeff_determination: -0.0689 - root_mean_squared_error: 6.7909"
          ],
          "name": "stdout"
        },
        {
          "output_type": "stream",
          "text": [
            "160798/160798 [==============================] - 12s 75us/step - loss: 20.1642 - coeff_determination: -0.0691 - root_mean_squared_error: 6.7835 - val_loss: 20.4373 - val_coeff_determination: -0.1520 - val_root_mean_squared_error: 7.1006\n",
            "\n",
            "Epoch 00025: val_loss did not improve from 19.99835\n",
            "Epoch 26/100\n",
            "144400/160798 [=========================>....] - ETA: 1s - loss: 20.1029 - coeff_determination: -0.0652 - root_mean_squared_error: 6.7660"
          ],
          "name": "stdout"
        },
        {
          "output_type": "stream",
          "text": [
            "160798/160798 [==============================] - 12s 74us/step - loss: 20.0930 - coeff_determination: -0.0639 - root_mean_squared_error: 6.7594 - val_loss: 20.0713 - val_coeff_determination: -0.0530 - val_root_mean_squared_error: 6.7849\n",
            "\n",
            "Epoch 00026: val_loss did not improve from 19.99835\n",
            "Epoch 27/100\n",
            "160798/160798 [==============================] - 12s 74us/step - loss: 20.0749 - coeff_determination: -0.0646 - root_mean_squared_error: 6.7566 - val_loss: 20.1479 - val_coeff_determination: -0.0054 - val_root_mean_squared_error: 6.6903\n",
            "\n",
            "Epoch 00027: val_loss did not improve from 19.99835\n",
            "Epoch 28/100\n",
            "   900/160798 [..............................] - ETA: 12s - loss: 19.0768 - coeff_determination: -0.0022 - root_mean_squared_error: 6.4152"
          ],
          "name": "stdout"
        },
        {
          "output_type": "stream",
          "text": [
            "160798/160798 [==============================] - 12s 73us/step - loss: 20.1002 - coeff_determination: -0.0640 - root_mean_squared_error: 6.7598 - val_loss: 20.2079 - val_coeff_determination: -0.0771 - val_root_mean_squared_error: 6.8890\n",
            "\n",
            "Epoch 00028: val_loss did not improve from 19.99835\n",
            "Epoch 29/100\n",
            "120800/160798 [=====================>........] - ETA: 2s - loss: 20.0482 - coeff_determination: -0.0627 - root_mean_squared_error: 6.7418"
          ],
          "name": "stdout"
        },
        {
          "output_type": "stream",
          "text": [
            "160798/160798 [==============================] - 12s 74us/step - loss: 20.0041 - coeff_determination: -0.0608 - root_mean_squared_error: 6.7358 - val_loss: 19.9342 - val_coeff_determination: -0.0414 - val_root_mean_squared_error: 6.7385\n",
            "\n",
            "Epoch 00029: val_loss improved from 19.99835 to 19.93425, saving model to age_prediction.hdf5\n",
            "Epoch 30/100\n",
            "140800/160798 [=========================>....] - ETA: 1s - loss: 19.9857 - coeff_determination: -0.0586 - root_mean_squared_error: 6.7327"
          ],
          "name": "stdout"
        },
        {
          "output_type": "stream",
          "text": [
            "160798/160798 [==============================] - 12s 74us/step - loss: 20.0209 - coeff_determination: -0.0615 - root_mean_squared_error: 6.7434 - val_loss: 20.1360 - val_coeff_determination: -0.0756 - val_root_mean_squared_error: 6.8664\n",
            "\n",
            "Epoch 00030: val_loss did not improve from 19.93425\n",
            "Epoch 31/100\n",
            "160798/160798 [==============================] - 12s 74us/step - loss: 19.9893 - coeff_determination: -0.0601 - root_mean_squared_error: 6.7303 - val_loss: 20.0730 - val_coeff_determination: -0.0818 - val_root_mean_squared_error: 6.8583\n",
            "\n",
            "Epoch 00031: val_loss did not improve from 19.93425\n",
            "Epoch 32/100\n",
            "   100/160798 [..............................] - ETA: 25s - loss: 19.7760 - coeff_determination: -0.2325 - root_mean_squared_error: 7.1424"
          ],
          "name": "stdout"
        },
        {
          "output_type": "stream",
          "text": [
            "160798/160798 [==============================] - 12s 75us/step - loss: 19.9982 - coeff_determination: -0.0658 - root_mean_squared_error: 6.7371 - val_loss: 19.9319 - val_coeff_determination: -0.0823 - val_root_mean_squared_error: 6.8359\n",
            "\n",
            "Epoch 00032: val_loss improved from 19.93425 to 19.93187, saving model to age_prediction.hdf5\n",
            "Epoch 33/100\n",
            "107100/160798 [==================>...........] - ETA: 3s - loss: 19.9771 - coeff_determination: -0.0561 - root_mean_squared_error: 6.7236"
          ],
          "name": "stdout"
        },
        {
          "output_type": "stream",
          "text": [
            "160798/160798 [==============================] - 12s 75us/step - loss: 19.9402 - coeff_determination: -0.0562 - root_mean_squared_error: 6.7145 - val_loss: 20.0449 - val_coeff_determination: 0.0019 - val_root_mean_squared_error: 6.6482\n",
            "\n",
            "Epoch 00033: val_loss did not improve from 19.93187\n",
            "Epoch 34/100\n",
            "150500/160798 [===========================>..] - ETA: 0s - loss: 19.9583 - coeff_determination: -0.0583 - root_mean_squared_error: 6.7231"
          ],
          "name": "stdout"
        },
        {
          "output_type": "stream",
          "text": [
            "160798/160798 [==============================] - 12s 74us/step - loss: 19.9698 - coeff_determination: -0.0584 - root_mean_squared_error: 6.7261 - val_loss: 20.2314 - val_coeff_determination: -0.1372 - val_root_mean_squared_error: 7.0445\n",
            "\n",
            "Epoch 00034: val_loss did not improve from 19.93187\n",
            "Epoch 35/100\n",
            "160798/160798 [==============================] - 12s 74us/step - loss: 19.9330 - coeff_determination: -0.0547 - root_mean_squared_error: 6.7102 - val_loss: 20.2141 - val_coeff_determination: -0.1434 - val_root_mean_squared_error: 7.0513\n",
            "\n",
            "Epoch 00035: val_loss did not improve from 19.93187\n",
            "Epoch 36/100\n",
            "  1500/160798 [..............................] - ETA: 12s - loss: 20.6911 - coeff_determination: -0.0494 - root_mean_squared_error: 6.7378    "
          ],
          "name": "stdout"
        },
        {
          "output_type": "stream",
          "text": [
            "160798/160798 [==============================] - 12s 74us/step - loss: 19.9077 - coeff_determination: -0.0543 - root_mean_squared_error: 6.7043 - val_loss: 19.9133 - val_coeff_determination: -0.0600 - val_root_mean_squared_error: 6.7900\n",
            "\n",
            "Epoch 00036: val_loss improved from 19.93187 to 19.91333, saving model to age_prediction.hdf5\n",
            "Epoch 37/100\n",
            "108000/160798 [===================>..........] - ETA: 3s - loss: 19.9094 - coeff_determination: -0.0532 - root_mean_squared_error: 6.6974"
          ],
          "name": "stdout"
        },
        {
          "output_type": "stream",
          "text": [
            "160798/160798 [==============================] - 12s 75us/step - loss: 19.9322 - coeff_determination: -0.0555 - root_mean_squared_error: 6.7136 - val_loss: 20.0888 - val_coeff_determination: -0.0038 - val_root_mean_squared_error: 6.6549\n",
            "\n",
            "Epoch 00037: val_loss did not improve from 19.91333\n",
            "Epoch 38/100\n",
            "152500/160798 [===========================>..] - ETA: 0s - loss: 19.8823 - coeff_determination: -0.0529 - root_mean_squared_error: 6.6989"
          ],
          "name": "stdout"
        },
        {
          "output_type": "stream",
          "text": [
            "160798/160798 [==============================] - 12s 74us/step - loss: 19.8886 - coeff_determination: -0.0531 - root_mean_squared_error: 6.7001 - val_loss: 19.9882 - val_coeff_determination: -0.0409 - val_root_mean_squared_error: 6.7504\n",
            "\n",
            "Epoch 00038: val_loss did not improve from 19.91333\n",
            "Epoch 39/100\n",
            "160798/160798 [==============================] - 12s 74us/step - loss: 19.9065 - coeff_determination: -0.0536 - root_mean_squared_error: 6.7031 - val_loss: 20.1526 - val_coeff_determination: -0.0394 - val_root_mean_squared_error: 6.7796\n",
            "\n",
            "Epoch 00039: val_loss did not improve from 19.91333\n",
            "Epoch 40/100\n",
            "  1700/160798 [..............................] - ETA: 11s - loss: 20.5096 - coeff_determination: -0.0456 - root_mean_squared_error: 6.7982"
          ],
          "name": "stdout"
        },
        {
          "output_type": "stream",
          "text": [
            "160798/160798 [==============================] - 12s 75us/step - loss: 19.8882 - coeff_determination: -0.0523 - root_mean_squared_error: 6.6987 - val_loss: 20.4761 - val_coeff_determination: -0.1822 - val_root_mean_squared_error: 7.1827\n",
            "\n",
            "Epoch 00040: val_loss did not improve from 19.91333\n",
            "Epoch 41/100\n",
            "117200/160798 [====================>.........] - ETA: 3s - loss: 19.9153 - coeff_determination: -0.0528 - root_mean_squared_error: 6.7045"
          ],
          "name": "stdout"
        },
        {
          "output_type": "stream",
          "text": [
            "160798/160798 [==============================] - 12s 75us/step - loss: 19.8683 - coeff_determination: -0.0523 - root_mean_squared_error: 6.6926 - val_loss: 19.7377 - val_coeff_determination: -0.0492 - val_root_mean_squared_error: 6.7191\n",
            "\n",
            "Epoch 00041: val_loss improved from 19.91333 to 19.73770, saving model to age_prediction.hdf5\n",
            "Epoch 42/100\n",
            "140100/160798 [=========================>....] - ETA: 1s - loss: 19.8546 - coeff_determination: -0.0507 - root_mean_squared_error: 6.6849"
          ],
          "name": "stdout"
        },
        {
          "output_type": "stream",
          "text": [
            "160798/160798 [==============================] - 12s 75us/step - loss: 19.8604 - coeff_determination: -0.0499 - root_mean_squared_error: 6.6879 - val_loss: 19.9602 - val_coeff_determination: -0.1091 - val_root_mean_squared_error: 6.9288\n",
            "\n",
            "Epoch 00042: val_loss did not improve from 19.73770\n",
            "Epoch 43/100\n",
            "159900/160798 [============================>.] - ETA: 0s - loss: 19.8818 - coeff_determination: -0.0520 - root_mean_squared_error: 6.6935"
          ],
          "name": "stdout"
        },
        {
          "output_type": "stream",
          "text": [
            "160798/160798 [==============================] - 12s 75us/step - loss: 19.8820 - coeff_determination: -0.0520 - root_mean_squared_error: 6.6939 - val_loss: 20.1818 - val_coeff_determination: -0.1407 - val_root_mean_squared_error: 7.0381\n",
            "\n",
            "Epoch 00043: val_loss did not improve from 19.73770\n",
            "Epoch 44/100\n",
            "160798/160798 [==============================] - 12s 75us/step - loss: 19.8560 - coeff_determination: -0.0514 - root_mean_squared_error: 6.6894 - val_loss: 20.7441 - val_coeff_determination: 0.0231 - val_root_mean_squared_error: 6.6922\n",
            "\n",
            "Epoch 00044: val_loss did not improve from 19.73770\n",
            "Epoch 45/100\n",
            "  2400/160798 [..............................] - ETA: 11s - loss: 19.7848 - coeff_determination: -0.0275 - root_mean_squared_error: 6.4698"
          ],
          "name": "stdout"
        },
        {
          "output_type": "stream",
          "text": [
            "160798/160798 [==============================] - 12s 75us/step - loss: 19.8654 - coeff_determination: -0.0499 - root_mean_squared_error: 6.6880 - val_loss: 20.0450 - val_coeff_determination: 0.0019 - val_root_mean_squared_error: 6.6386\n",
            "\n",
            "Epoch 00045: val_loss did not improve from 19.73770\n",
            "Epoch 46/100\n",
            "118200/160798 [=====================>........] - ETA: 3s - loss: 19.8573 - coeff_determination: -0.0510 - root_mean_squared_error: 6.6898"
          ],
          "name": "stdout"
        },
        {
          "output_type": "stream",
          "text": [
            "160798/160798 [==============================] - 12s 74us/step - loss: 19.8646 - coeff_determination: -0.0515 - root_mean_squared_error: 6.6946 - val_loss: 20.0435 - val_coeff_determination: -0.0110 - val_root_mean_squared_error: 6.6838\n",
            "\n",
            "Epoch 00046: val_loss did not improve from 19.73770\n",
            "Epoch 47/100\n",
            "154600/160798 [===========================>..] - ETA: 0s - loss: 19.8437 - coeff_determination: -0.0476 - root_mean_squared_error: 6.6771"
          ],
          "name": "stdout"
        },
        {
          "output_type": "stream",
          "text": [
            "160798/160798 [==============================] - 12s 74us/step - loss: 19.8475 - coeff_determination: -0.0486 - root_mean_squared_error: 6.6804 - val_loss: 19.9980 - val_coeff_determination: -0.0964 - val_root_mean_squared_error: 6.8930\n",
            "\n",
            "Epoch 00047: val_loss did not improve from 19.73770\n",
            "Epoch 48/100\n",
            "160798/160798 [==============================] - 12s 74us/step - loss: 19.8051 - coeff_determination: -0.0456 - root_mean_squared_error: 6.6680 - val_loss: 19.7542 - val_coeff_determination: -0.0800 - val_root_mean_squared_error: 6.8129\n",
            "\n",
            "Epoch 00048: val_loss did not improve from 19.73770\n",
            "Epoch 49/100\n",
            "  3100/160798 [..............................] - ETA: 11s - loss: 20.0738 - coeff_determination: -0.0864 - root_mean_squared_error: 6.9291"
          ],
          "name": "stdout"
        },
        {
          "output_type": "stream",
          "text": [
            "160798/160798 [==============================] - 12s 74us/step - loss: 19.8675 - coeff_determination: -0.0530 - root_mean_squared_error: 6.6956 - val_loss: 19.9441 - val_coeff_determination: 0.0019 - val_root_mean_squared_error: 6.6298\n",
            "\n",
            "Epoch 00049: val_loss did not improve from 19.73770\n",
            "Epoch 50/100\n",
            "118600/160798 [=====================>........] - ETA: 3s - loss: 19.7930 - coeff_determination: -0.0450 - root_mean_squared_error: 6.6646"
          ],
          "name": "stdout"
        },
        {
          "output_type": "stream",
          "text": [
            "160798/160798 [==============================] - 12s 75us/step - loss: 19.8370 - coeff_determination: -0.0477 - root_mean_squared_error: 6.6799 - val_loss: 19.9478 - val_coeff_determination: -0.1196 - val_root_mean_squared_error: 6.9373\n",
            "\n",
            "Epoch 00050: val_loss did not improve from 19.73770\n",
            "Epoch 51/100\n",
            "155000/160798 [===========================>..] - ETA: 0s - loss: 19.8122 - coeff_determination: -0.0486 - root_mean_squared_error: 6.6716"
          ],
          "name": "stdout"
        },
        {
          "output_type": "stream",
          "text": [
            "160798/160798 [==============================] - 12s 74us/step - loss: 19.8109 - coeff_determination: -0.0480 - root_mean_squared_error: 6.6715 - val_loss: 20.0331 - val_coeff_determination: 0.0225 - val_root_mean_squared_error: 6.5810\n",
            "\n",
            "Epoch 00051: val_loss did not improve from 19.73770\n",
            "Epoch 52/100\n",
            "160798/160798 [==============================] - 12s 74us/step - loss: 19.8253 - coeff_determination: -0.0465 - root_mean_squared_error: 6.6736 - val_loss: 20.0490 - val_coeff_determination: -0.1220 - val_root_mean_squared_error: 6.9589\n",
            "\n",
            "Epoch 00052: val_loss did not improve from 19.73770\n",
            "Epoch 53/100\n",
            "  3300/160798 [..............................] - ETA: 11s - loss: 19.9852 - coeff_determination: -0.0531 - root_mean_squared_error: 6.7209"
          ],
          "name": "stdout"
        },
        {
          "output_type": "stream",
          "text": [
            "160798/160798 [==============================] - 12s 74us/step - loss: 19.7733 - coeff_determination: -0.0450 - root_mean_squared_error: 6.6601 - val_loss: 19.9382 - val_coeff_determination: -0.0797 - val_root_mean_squared_error: 6.8278\n",
            "\n",
            "Epoch 00053: val_loss did not improve from 19.73770\n",
            "Epoch 54/100\n",
            "119100/160798 [=====================>........] - ETA: 2s - loss: 19.7604 - coeff_determination: -0.0428 - root_mean_squared_error: 6.6571"
          ],
          "name": "stdout"
        },
        {
          "output_type": "stream",
          "text": [
            "160798/160798 [==============================] - 12s 74us/step - loss: 19.7505 - coeff_determination: -0.0421 - root_mean_squared_error: 6.6497 - val_loss: 19.7461 - val_coeff_determination: -0.0639 - val_root_mean_squared_error: 6.7649\n",
            "\n",
            "Epoch 00054: val_loss did not improve from 19.73770\n",
            "Epoch 55/100\n",
            "153100/160798 [===========================>..] - ETA: 0s - loss: 19.7361 - coeff_determination: -0.0452 - root_mean_squared_error: 6.6513"
          ],
          "name": "stdout"
        },
        {
          "output_type": "stream",
          "text": [
            "160798/160798 [==============================] - 12s 75us/step - loss: 19.7354 - coeff_determination: -0.0445 - root_mean_squared_error: 6.6526 - val_loss: 19.8435 - val_coeff_determination: 0.0074 - val_root_mean_squared_error: 6.5865\n",
            "\n",
            "Epoch 00055: val_loss did not improve from 19.73770\n",
            "Epoch 56/100\n",
            "160798/160798 [==============================] - 12s 75us/step - loss: 19.7210 - coeff_determination: -0.0414 - root_mean_squared_error: 6.6419 - val_loss: 19.8046 - val_coeff_determination: -0.0743 - val_root_mean_squared_error: 6.8019\n",
            "\n",
            "Epoch 00056: val_loss did not improve from 19.73770\n",
            "Epoch 00056: early stopping\n"
          ],
          "name": "stdout"
        },
        {
          "output_type": "execute_result",
          "data": {
            "text/plain": [
              "<keras.callbacks.History at 0x7f1772a199b0>"
            ]
          },
          "metadata": {
            "tags": []
          },
          "execution_count": 29
        }
      ]
    },
    {
      "metadata": {
        "id": "jTHpGjtHWDv2",
        "colab_type": "code",
        "colab": {}
      },
      "cell_type": "code",
      "source": [
        "y_pred = model.predict(X)"
      ],
      "execution_count": 0,
      "outputs": []
    },
    {
      "metadata": {
        "id": "OnAdxOX3XHCN",
        "colab_type": "code",
        "colab": {
          "base_uri": "https://localhost:8080/",
          "height": 51
        },
        "outputId": "8e518360-e02a-42b1-a277-9c7d26c5790f"
      },
      "cell_type": "code",
      "source": [
        "print(min(y_pred))\n",
        "print(max(y_pred))"
      ],
      "execution_count": 31,
      "outputs": [
        {
          "output_type": "stream",
          "text": [
            "[14.508879]\n",
            "[59.54692]\n"
          ],
          "name": "stdout"
        }
      ]
    },
    {
      "metadata": {
        "id": "6pvy7PJ9XPpj",
        "colab_type": "code",
        "colab": {
          "base_uri": "https://localhost:8080/",
          "height": 394
        },
        "outputId": "d4b470c5-4197-437c-fd60-8e34e1517ee6"
      },
      "cell_type": "code",
      "source": [
        "print(Y[:20].values)\n",
        "print(y_pred[:20].tolist())"
      ],
      "execution_count": 32,
      "outputs": [
        {
          "output_type": "stream",
          "text": [
            "[[52]\n",
            " [17]\n",
            " [23]\n",
            " [31]\n",
            " [22]\n",
            " [45]\n",
            " [18]\n",
            " [30]\n",
            " [23]\n",
            " [27]\n",
            " [35]\n",
            " [22]\n",
            " [19]\n",
            " [33]\n",
            " [27]\n",
            " [35]\n",
            " [22]\n",
            " [21]\n",
            " [21]\n",
            " [30]]\n",
            "[[29.47213363647461], [17.687225341796875], [26.67857551574707], [30.741960525512695], [24.607011795043945], [26.089584350585938], [27.197660446166992], [28.239112854003906], [21.297752380371094], [25.704174041748047], [27.67522621154785], [28.40057945251465], [21.278079986572266], [29.841218948364258], [28.230979919433594], [24.138355255126953], [21.023033142089844], [25.579389572143555], [21.01232147216797], [26.982498168945312]]\n"
          ],
          "name": "stdout"
        }
      ]
    },
    {
      "metadata": {
        "id": "NN7N_CUHWMEL",
        "colab_type": "code",
        "colab": {
          "base_uri": "https://localhost:8080/",
          "height": 351
        },
        "outputId": "ad001ca9-a3d7-459b-eea9-66ae77c47791"
      },
      "cell_type": "code",
      "source": [
        "from matplotlib import pyplot\n",
        "pyplot.plot(y_pred[:30], color=\"blue\")\n",
        "pyplot.plot(Y[:30].values, color=\"green\")\n",
        "pyplot.show()"
      ],
      "execution_count": 33,
      "outputs": [
        {
          "output_type": "display_data",
          "data": {
            "image/png": "[encoded data removed]",
            "text/plain": [
              "<matplotlib.figure.Figure at 0x7f177e7838d0>"
            ]
          },
          "metadata": {
            "tags": []
          }
        }
      ]
    },
    {
      "metadata": {
        "id": "PIViJC9O2BYj",
        "colab_type": "code",
        "colab": {}
      },
      "cell_type": "code",
      "source": [
        "from google.colab import files\n",
        "files.download('age_prediction.hdf5')"
      ],
      "execution_count": 0,
      "outputs": []
    }
  ]
}