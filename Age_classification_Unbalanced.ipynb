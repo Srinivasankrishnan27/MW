{
  "nbformat": 4,
  "nbformat_minor": 0,
  "metadata": {
    "colab": {
      "name": "Age_classification_Unbalanced.ipynb",
      "version": "0.3.2",
      "provenance": [],
      "collapsed_sections": [],
      "include_colab_link": true
    },
    "kernelspec": {
      "name": "python3",
      "display_name": "Python 3"
    },
    "accelerator": "GPU"
  },
  "cells": [
    {
      "cell_type": "markdown",
      "metadata": {
        "id": "view-in-github",
        "colab_type": "text"
      },
      "source": [
        "[View in Colaboratory](https://colab.research.google.com/github/Srinivasankrishnan27/MW/blob/master/Age_classification_Unbalanced.ipynb)"
      ]
    },
    {
      "metadata": {
        "id": "Uqn-RsMwTkus",
        "colab_type": "code",
        "colab": {
          "base_uri": "https://localhost:8080/",
          "height": 34
        },
        "outputId": "93363e36-0ee7-4b21-d68c-e16683171fa7"
      },
      "cell_type": "code",
      "source": [
        "import numpy as np\n",
        "import pandas as pd\n",
        "from keras.models import Sequential\n",
        "from keras.layers import Dense\n",
        "from keras.utils import np_utils\n",
        "from keras import optimizers\n",
        "from keras.callbacks import EarlyStopping, ModelCheckpoint\n",
        "from keras.layers import Conv1D, MaxPooling1D, Embedding, Dropout, Activation, Dense, Dropout, Flatten\n",
        "from keras import backend as K\n",
        "\n",
        "from sklearn.preprocessing import LabelEncoder\n",
        "from sklearn.model_selection import train_test_split\n",
        "from sklearn.metrics import accuracy_score\n",
        "from sklearn.utils import class_weight\n",
        "from sklearn.utils import resample"
      ],
      "execution_count": 1,
      "outputs": [
        {
          "output_type": "stream",
          "text": [
            "Using TensorFlow backend.\n"
          ],
          "name": "stderr"
        }
      ]
    },
    {
      "metadata": {
        "id": "DC5xorqkUJOi",
        "colab_type": "code",
        "colab": {
          "resources": {
            "http://localhost:8080/nbextensions/google.colab/files.js": {
              "data": "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",
              "ok": true,
              "headers": [
                [
                  "content-type",
                  "application/javascript"
                ]
              ],
              "status": 200,
              "status_text": ""
            }
          },
          "base_uri": "https://localhost:8080/",
          "height": 72
        },
        "outputId": "9adff0c5-93bc-41f6-82dc-02dfc2cbbc6a"
      },
      "cell_type": "code",
      "source": [
        "from google.colab import files\n",
        "uploaded = files.upload()"
      ],
      "execution_count": 2,
      "outputs": [
        {
          "output_type": "display_data",
          "data": {
            "text/html": [
              "\n",
              "     <input type=\"file\" id=\"files-6afc38e8-c924-4fd7-9fd0-df6e8277f5b3\" name=\"files[]\" multiple disabled />\n",
              "     <output id=\"result-6afc38e8-c924-4fd7-9fd0-df6e8277f5b3\">\n",
              "      Upload widget is only available when the cell has been executed in the\n",
              "      current browser session. Please rerun this cell to enable.\n",
              "      </output>\n",
              "      <script src=\"/nbextensions/google.colab/files.js\"></script> "
            ],
            "text/plain": [
              "<IPython.core.display.HTML object>"
            ]
          },
          "metadata": {
            "tags": []
          }
        },
        {
          "output_type": "stream",
          "text": [
            "Saving data_classification_85.csv to data_classification_85.csv\n"
          ],
          "name": "stdout"
        }
      ]
    },
    {
      "metadata": {
        "id": "p1WNyoZWikbh",
        "colab_type": "code",
        "colab": {}
      },
      "cell_type": "code",
      "source": [
        "# fix random seed for reproducibility\n",
        "seed = 7\n",
        "np.random.seed(seed)"
      ],
      "execution_count": 0,
      "outputs": []
    },
    {
      "metadata": {
        "id": "DHmsySEuguIr",
        "colab_type": "code",
        "colab": {}
      },
      "cell_type": "code",
      "source": [
        "data = pd.read_csv('data_classification_85.csv')"
      ],
      "execution_count": 0,
      "outputs": []
    },
    {
      "metadata": {
        "id": "pYw-d2FYGUO6",
        "colab_type": "code",
        "colab": {
          "base_uri": "https://localhost:8080/",
          "height": 119
        },
        "outputId": "0e8db25a-81ea-44bb-abd4-d743c7a11f84"
      },
      "cell_type": "code",
      "source": [
        "data['age_range'].value_counts()"
      ],
      "execution_count": 4,
      "outputs": [
        {
          "output_type": "execute_result",
          "data": {
            "text/plain": [
              "1    67648\n",
              "2    61529\n",
              "3    27304\n",
              "4     9490\n",
              "5     6866\n",
              "Name: age_range, dtype: int64"
            ]
          },
          "metadata": {
            "tags": []
          },
          "execution_count": 4
        }
      ]
    },
    {
      "metadata": {
        "id": "lW8gpEV8irfY",
        "colab_type": "code",
        "colab": {}
      },
      "cell_type": "code",
      "source": [
        "X_dws = data[data.columns.difference(['age','ifa','age_range'])]\n",
        "Y_dws = data.loc[:, ('age_range')]"
      ],
      "execution_count": 0,
      "outputs": []
    },
    {
      "metadata": {
        "id": "SsmUbWzYHcPy",
        "colab_type": "code",
        "colab": {
          "resources": {
            "http://localhost:8080/nbextensions/google.colab/files.js": {
              "data": "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",
              "ok": true,
              "headers": [
                [
                  "content-type",
                  "application/javascript"
                ]
              ],
              "status": 200,
              "status_text": ""
            }
          },
          "base_uri": "https://localhost:8080/",
          "height": 72
        },
        "outputId": "b5311f08-9a9c-4c93-a6a7-60a9b0c3420f"
      },
      "cell_type": "code",
      "source": [
        "uploaded = files.upload()"
      ],
      "execution_count": 7,
      "outputs": [
        {
          "output_type": "display_data",
          "data": {
            "text/html": [
              "\n",
              "     <input type=\"file\" id=\"files-61fe3ce2-c892-4302-b9ad-0f20b4fd6e95\" name=\"files[]\" multiple disabled />\n",
              "     <output id=\"result-61fe3ce2-c892-4302-b9ad-0f20b4fd6e95\">\n",
              "      Upload widget is only available when the cell has been executed in the\n",
              "      current browser session. Please rerun this cell to enable.\n",
              "      </output>\n",
              "      <script src=\"/nbextensions/google.colab/files.js\"></script> "
            ],
            "text/plain": [
              "<IPython.core.display.HTML object>"
            ]
          },
          "metadata": {
            "tags": []
          }
        },
        {
          "output_type": "stream",
          "text": [
            "Saving features_classification.csv to features_classification.csv\n"
          ],
          "name": "stdout"
        }
      ]
    },
    {
      "metadata": {
        "id": "2tubLo7IH5N4",
        "colab_type": "code",
        "colab": {}
      },
      "cell_type": "code",
      "source": [
        "features =pd.read_csv('features_classification.csv')"
      ],
      "execution_count": 0,
      "outputs": []
    },
    {
      "metadata": {
        "id": "Z81GcVJbi4D3",
        "colab_type": "code",
        "colab": {}
      },
      "cell_type": "code",
      "source": [
        "X_dws_train, X_dws_test, Y_dws_train, Y_dws_test = train_test_split(X_dws[features['column']], Y_dws,\n",
        "                                                          stratify=Y_dws, test_size=0.1)"
      ],
      "execution_count": 0,
      "outputs": []
    },
    {
      "metadata": {
        "id": "Ir7BZnbgjEUX",
        "colab_type": "code",
        "colab": {
          "base_uri": "https://localhost:8080/",
          "height": 34
        },
        "outputId": "76bcc445-cf92-4f14-8c32-5e4a3c641895"
      },
      "cell_type": "code",
      "source": [
        "input_len = len(list(X_dws_train.columns))\n",
        "print(input_len)"
      ],
      "execution_count": 10,
      "outputs": [
        {
          "output_type": "stream",
          "text": [
            "65\n"
          ],
          "name": "stdout"
        }
      ]
    },
    {
      "metadata": {
        "id": "Uy763ihXjKfe",
        "colab_type": "code",
        "colab": {}
      },
      "cell_type": "code",
      "source": [
        "# encode class values as integers\n",
        "encoder = LabelEncoder()\n",
        "encoder.fit(Y_dws)\n",
        "y_train = encoder.transform(Y_dws_train)\n",
        "y_test = encoder.transform(Y_dws_test)\n",
        "\n",
        "# convert integers to dummy variables (i.e. one hot encoded)\n",
        "encoded_y_train = np_utils.to_categorical(y_train)\n",
        "encoded_y_test = np_utils.to_categorical(y_test)"
      ],
      "execution_count": 0,
      "outputs": []
    },
    {
      "metadata": {
        "id": "f9Wt77n1q_wH",
        "colab_type": "code",
        "colab": {}
      },
      "cell_type": "code",
      "source": [
        "y_all = encoder.transform(Y_dws)\n",
        "encoded_y_all = np_utils.to_categorical(y_all)"
      ],
      "execution_count": 0,
      "outputs": []
    },
    {
      "metadata": {
        "id": "08sRINfgk_4O",
        "colab_type": "code",
        "colab": {
          "base_uri": "https://localhost:8080/",
          "height": 34
        },
        "outputId": "81d34370-08f9-4b5c-92af-69f9c94b3d4f"
      },
      "cell_type": "code",
      "source": [
        "np.unique(Y_dws_train)"
      ],
      "execution_count": 13,
      "outputs": [
        {
          "output_type": "execute_result",
          "data": {
            "text/plain": [
              "array([1, 2, 3, 4, 5])"
            ]
          },
          "metadata": {
            "tags": []
          },
          "execution_count": 13
        }
      ]
    },
    {
      "metadata": {
        "id": "9Pfl9caCkAwI",
        "colab_type": "code",
        "colab": {
          "base_uri": "https://localhost:8080/",
          "height": 34
        },
        "outputId": "a0034cd9-a7dc-48d8-8123-462efc6d82e5"
      },
      "cell_type": "code",
      "source": [
        "output_len = encoded_y_train.shape[1]\n",
        "print(output_len)"
      ],
      "execution_count": 14,
      "outputs": [
        {
          "output_type": "stream",
          "text": [
            "5\n"
          ],
          "name": "stdout"
        }
      ]
    },
    {
      "metadata": {
        "id": "BUcnx_N5k8-_",
        "colab_type": "code",
        "colab": {
          "base_uri": "https://localhost:8080/",
          "height": 34
        },
        "outputId": "725e2467-e9c1-400d-ad4e-f6e6450136ab"
      },
      "cell_type": "code",
      "source": [
        "class_weight_values = class_weight.compute_class_weight('balanced',\n",
        "                                                 np.unique(Y_dws_train),\n",
        "                                                 Y_dws_train)\n",
        "print(class_weight_values)"
      ],
      "execution_count": 15,
      "outputs": [
        {
          "output_type": "stream",
          "text": [
            "[0.51098993 0.56180656 1.26599658 3.64250088 5.03489238]\n"
          ],
          "name": "stdout"
        }
      ]
    },
    {
      "metadata": {
        "id": "EznDSII4TJGI",
        "colab_type": "code",
        "colab": {}
      },
      "cell_type": "code",
      "source": [
        "def precision(y_true, y_pred):\n",
        "    # Calculates the precision\n",
        "    true_positives = K.sum(K.round(K.clip(y_true * y_pred, 0, 1)))\n",
        "    predicted_positives = K.sum(K.round(K.clip(y_pred, 0, 1)))\n",
        "    precision = true_positives / (predicted_positives + K.epsilon())\n",
        "    return precision\n",
        "\n",
        "\n",
        "def recall(y_true, y_pred):\n",
        "    # Calculates the recall\n",
        "    true_positives = K.sum(K.round(K.clip(y_true * y_pred, 0, 1)))\n",
        "    possible_positives = K.sum(K.round(K.clip(y_true, 0, 1)))\n",
        "    recall = true_positives / (possible_positives + K.epsilon())\n",
        "    return recall\n",
        "\n",
        "def fbeta_score(y_true, y_pred, beta=1):\n",
        "    # Calculates the F score, the weighted harmonic mean of precision and recall.\n",
        "\n",
        "    if beta < 0:\n",
        "        raise ValueError('The lowest choosable beta is zero (only precision).')\n",
        "        \n",
        "    # If there are no true positives, fix the F score at 0 like sklearn.\n",
        "    if K.sum(K.round(K.clip(y_true, 0, 1))) == 0:\n",
        "        return 0\n",
        "\n",
        "    p = precision(y_true, y_pred)\n",
        "    r = recall(y_true, y_pred)\n",
        "    bb = beta ** 2\n",
        "    fbeta_score = (1 + bb) * (p * r) / (bb * p + r + K.epsilon())\n",
        "    return fbeta_score\n",
        "\n",
        "def fmeasure(y_true, y_pred):\n",
        "    # Calculates the f-measure, the harmonic mean of precision and recall.\n",
        "    return fbeta_score(y_true, y_pred, beta=1)"
      ],
      "execution_count": 0,
      "outputs": []
    },
    {
      "metadata": {
        "id": "lc9agcTljlm0",
        "colab_type": "code",
        "colab": {
          "base_uri": "https://localhost:8080/",
          "height": 340
        },
        "outputId": "afc90e51-f617-490f-c518-8a51ab89a054"
      },
      "cell_type": "code",
      "source": [
        "batch_size = 32\n",
        "epochs = 100\n",
        "\n",
        "model = Sequential()\n",
        "# input/char embedding layer\n",
        "\n",
        "model = Sequential()\n",
        "model.add(Dense(80, input_dim=input_len, activation='relu'))\n",
        "model.add(Dense(60, activation='relu'))\n",
        "model.add(Dense(50, activation='tanh'))\n",
        "model.add(Dense(40, activation='tanh'))\n",
        "model.add(Dense(20, activation='sigmoid'))\n",
        "model.add(Dense(output_len, activation='softmax'))\n",
        "model.compile(loss='categorical_crossentropy', optimizer='adam', metrics=['accuracy',fmeasure,recall,precision])\n",
        "model.summary()"
      ],
      "execution_count": 17,
      "outputs": [
        {
          "output_type": "stream",
          "text": [
            "_________________________________________________________________\n",
            "Layer (type)                 Output Shape              Param #   \n",
            "=================================================================\n",
            "dense_1 (Dense)              (None, 80)                5280      \n",
            "_________________________________________________________________\n",
            "dense_2 (Dense)              (None, 60)                4860      \n",
            "_________________________________________________________________\n",
            "dense_3 (Dense)              (None, 50)                3050      \n",
            "_________________________________________________________________\n",
            "dense_4 (Dense)              (None, 40)                2040      \n",
            "_________________________________________________________________\n",
            "dense_5 (Dense)              (None, 20)                820       \n",
            "_________________________________________________________________\n",
            "dense_6 (Dense)              (None, 5)                 105       \n",
            "=================================================================\n",
            "Total params: 16,155\n",
            "Trainable params: 16,155\n",
            "Non-trainable params: 0\n",
            "_________________________________________________________________\n"
          ],
          "name": "stdout"
        }
      ]
    },
    {
      "metadata": {
        "id": "85LRwm8qkN8-",
        "colab_type": "code",
        "colab": {
          "base_uri": "https://localhost:8080/",
          "height": 1584
        },
        "outputId": "f7f882eb-8ee9-4e9b-81ac-af876c5295fd"
      },
      "cell_type": "code",
      "source": [
        "early_stopping = EarlyStopping(patience=20, verbose=1)\n",
        "checkpointer = ModelCheckpoint(filepath=r'age_classifier_Unbalanced.hdf5', \n",
        "                               verbose=1, \n",
        "                               save_best_only=True)\n",
        "model.fit(X_dws_train, encoded_y_train, \n",
        "          batch_size=batch_size, \n",
        "          epochs = epochs, \n",
        "          verbose=1,\n",
        "          class_weight = class_weight_values,\n",
        "          shuffle=True,\n",
        "          validation_split=0.1,\n",
        "          callbacks=[early_stopping, checkpointer])"
      ],
      "execution_count": 18,
      "outputs": [
        {
          "output_type": "stream",
          "text": [
            "Train on 139997 samples, validate on 15556 samples\n",
            "Epoch 1/100\n",
            " 91424/139997 [==================>...........] - ETA: 14s - loss: 1.3115 - acc: 0.3952 - fmeasure: 0.0221 - recall: 0.0120 - precision: 0.2411"
          ],
          "name": "stdout"
        },
        {
          "output_type": "stream",
          "text": [
            "139997/139997 [==============================] - 43s 305us/step - loss: 1.3066 - acc: 0.3971 - fmeasure: 0.0285 - recall: 0.0154 - precision: 0.3133 - val_loss: 1.3013 - val_acc: 0.4005 - val_fmeasure: 0.0214 - val_recall: 0.0111 - val_precision: 0.3065\n",
            "\n",
            "Epoch 00001: val_loss improved from inf to 1.30126, saving model to age_classifier_Unbalanced.hdf5\n",
            "Epoch 2/100\n",
            " 23296/139997 [===>..........................] - ETA: 33s - loss: 1.2977 - acc: 0.4102 - fmeasure: 0.0391 - recall: 0.0209 - precision: 0.4485"
          ],
          "name": "stdout"
        },
        {
          "output_type": "stream",
          "text": [
            "139997/139997 [==============================] - 41s 296us/step - loss: 1.2970 - acc: 0.4051 - fmeasure: 0.0424 - recall: 0.0227 - precision: 0.4518 - val_loss: 1.2898 - val_acc: 0.4310 - val_fmeasure: 0.0618 - val_recall: 0.0332 - val_precision: 0.5584\n",
            "\n",
            "Epoch 00002: val_loss improved from 1.30126 to 1.28983, saving model to age_classifier_Unbalanced.hdf5\n",
            "Epoch 3/100\n",
            "  4416/139997 [..............................] - ETA: 38s - loss: 1.2868 - acc: 0.4115 - fmeasure: 0.0602 - recall: 0.0324 - precision: 0.5694"
          ],
          "name": "stdout"
        },
        {
          "output_type": "stream",
          "text": [
            "137024/139997 [============================>.] - ETA: 0s - loss: 1.3069 - acc: 0.3926 - fmeasure: 0.0195 - recall: 0.0107 - precision: 0.1874"
          ],
          "name": "stdout"
        },
        {
          "output_type": "stream",
          "text": [
            "139997/139997 [==============================] - 42s 300us/step - loss: 1.3069 - acc: 0.3927 - fmeasure: 0.0191 - recall: 0.0105 - precision: 0.1834 - val_loss: 1.3125 - val_acc: 0.3908 - val_fmeasure: 3.7402e-04 - val_recall: 1.9285e-04 - val_precision: 0.0062\n",
            "\n",
            "Epoch 00003: val_loss did not improve from 1.28983\n",
            "Epoch 4/100\n",
            " 38816/139997 [=======>......................] - ETA: 29s - loss: 1.3094 - acc: 0.3928 - fmeasure: 0.0013 - recall: 6.6983e-04 - precision: 0.0214"
          ],
          "name": "stdout"
        },
        {
          "output_type": "stream",
          "text": [
            "139997/139997 [==============================] - 42s 298us/step - loss: 1.3113 - acc: 0.3901 - fmeasure: 0.0015 - recall: 7.9287e-04 - precision: 0.0210 - val_loss: 1.3116 - val_acc: 0.3893 - val_fmeasure: 3.7402e-04 - val_recall: 1.9285e-04 - val_precision: 0.0062\n",
            "\n",
            "Epoch 00004: val_loss did not improve from 1.28983\n",
            "Epoch 5/100\n",
            "  8224/139997 [>.............................] - ETA: 39s - loss: 1.3138 - acc: 0.3935 - fmeasure: 0.0012 - recall: 6.0798e-04 - precision: 0.0195    "
          ],
          "name": "stdout"
        },
        {
          "output_type": "stream",
          "text": [
            "127456/139997 [==========================>...] - ETA: 3s - loss: 1.3113 - acc: 0.3919 - fmeasure: 9.8905e-04 - recall: 5.0998e-04 - precision: 0.0163"
          ],
          "name": "stdout"
        },
        {
          "output_type": "stream",
          "text": [
            "139997/139997 [==============================] - 44s 312us/step - loss: 1.3111 - acc: 0.3920 - fmeasure: 9.0045e-04 - recall: 4.6430e-04 - precision: 0.0149 - val_loss: 1.3122 - val_acc: 0.3831 - val_fmeasure: 0.0000e+00 - val_recall: 0.0000e+00 - val_precision: 0.0000e+00\n",
            "\n",
            "Epoch 00005: val_loss did not improve from 1.28983\n",
            "Epoch 6/100\n",
            " 34048/139997 [======>.......................] - ETA: 31s - loss: 1.3092 - acc: 0.3899 - fmeasure: 6.8353e-04 - recall: 3.5244e-04 - precision: 0.0113"
          ],
          "name": "stdout"
        },
        {
          "output_type": "stream",
          "text": [
            "139997/139997 [==============================] - 43s 306us/step - loss: 1.3112 - acc: 0.3925 - fmeasure: 9.4201e-04 - recall: 4.8572e-04 - precision: 0.0155 - val_loss: 1.3085 - val_acc: 0.4178 - val_fmeasure: 3.7402e-04 - val_recall: 1.9285e-04 - val_precision: 0.0062\n",
            "\n",
            "Epoch 00006: val_loss did not improve from 1.28983\n",
            "Epoch 7/100\n",
            "  5120/139997 [>.............................] - ETA: 40s - loss: 1.3112 - acc: 0.4039 - fmeasure: 0.0019 - recall: 9.7656e-04 - precision: 0.0312"
          ],
          "name": "stdout"
        },
        {
          "output_type": "stream",
          "text": [
            "132768/139997 [===========================>..] - ETA: 2s - loss: 1.3092 - acc: 0.3955 - fmeasure: 0.0011 - recall: 5.5736e-04 - precision: 0.0176"
          ],
          "name": "stdout"
        },
        {
          "output_type": "stream",
          "text": [
            "139997/139997 [==============================] - 43s 306us/step - loss: 1.3098 - acc: 0.3953 - fmeasure: 0.0011 - recall: 5.5001e-04 - precision: 0.0174 - val_loss: 1.3110 - val_acc: 0.3902 - val_fmeasure: 3.7402e-04 - val_recall: 1.9285e-04 - val_precision: 0.0062\n",
            "\n",
            "Epoch 00007: val_loss did not improve from 1.28983\n",
            "Epoch 8/100\n",
            " 36416/139997 [======>.......................] - ETA: 30s - loss: 1.3024 - acc: 0.4088 - fmeasure: 7.9572e-04 - recall: 4.1191e-04 - precision: 0.0123"
          ],
          "name": "stdout"
        },
        {
          "output_type": "stream",
          "text": [
            "139997/139997 [==============================] - 43s 305us/step - loss: 1.3087 - acc: 0.4034 - fmeasure: 8.5726e-04 - recall: 4.4287e-04 - precision: 0.0137 - val_loss: 1.3079 - val_acc: 0.4158 - val_fmeasure: 0.0000e+00 - val_recall: 0.0000e+00 - val_precision: 0.0000e+00\n",
            "\n",
            "Epoch 00008: val_loss did not improve from 1.28983\n",
            "Epoch 9/100\n",
            "  6528/139997 [>.............................] - ETA: 38s - loss: 1.3055 - acc: 0.3975 - fmeasure: 0.0000e+00 - recall: 0.0000e+00 - precision: 0.0000e+00"
          ],
          "name": "stdout"
        },
        {
          "output_type": "stream",
          "text": [
            "131648/139997 [===========================>..] - ETA: 2s - loss: 1.3083 - acc: 0.3989 - fmeasure: 8.6873e-04 - recall: 4.4816e-04 - precision: 0.0142"
          ],
          "name": "stdout"
        },
        {
          "output_type": "stream",
          "text": [
            "139997/139997 [==============================] - 42s 301us/step - loss: 1.3084 - acc: 0.3989 - fmeasure: 0.0016 - recall: 8.3573e-04 - precision: 0.0220 - val_loss: 1.3090 - val_acc: 0.4060 - val_fmeasure: 3.7402e-04 - val_recall: 1.9285e-04 - val_precision: 0.0062\n",
            "\n",
            "Epoch 00009: val_loss did not improve from 1.28983\n",
            "Epoch 10/100\n",
            " 36672/139997 [======>.......................] - ETA: 30s - loss: 1.3073 - acc: 0.3929 - fmeasure: 0.0028 - recall: 0.0015 - precision: 0.0454"
          ],
          "name": "stdout"
        },
        {
          "output_type": "stream",
          "text": [
            "139997/139997 [==============================] - 42s 301us/step - loss: 1.3081 - acc: 0.3955 - fmeasure: 0.0179 - recall: 0.0103 - precision: 0.1371 - val_loss: 1.3088 - val_acc: 0.3860 - val_fmeasure: 3.7402e-04 - val_recall: 1.9285e-04 - val_precision: 0.0062\n",
            "\n",
            "Epoch 00010: val_loss did not improve from 1.28983\n",
            "Epoch 11/100\n",
            "  8608/139997 [>.............................] - ETA: 38s - loss: 1.3055 - acc: 0.4020 - fmeasure: 0.0107 - recall: 0.0063 - precision: 0.0821"
          ],
          "name": "stdout"
        },
        {
          "output_type": "stream",
          "text": [
            "139712/139997 [============================>.] - ETA: 0s - loss: 1.3066 - acc: 0.4104 - fmeasure: 0.0043 - recall: 0.0025 - precision: 0.0322"
          ],
          "name": "stdout"
        },
        {
          "output_type": "stream",
          "text": [
            "139997/139997 [==============================] - 43s 304us/step - loss: 1.3066 - acc: 0.4104 - fmeasure: 0.0043 - recall: 0.0025 - precision: 0.0321 - val_loss: 1.3088 - val_acc: 0.4105 - val_fmeasure: 3.7402e-04 - val_recall: 1.9285e-04 - val_precision: 0.0062\n",
            "\n",
            "Epoch 00011: val_loss did not improve from 1.28983\n",
            "Epoch 12/100\n",
            " 39488/139997 [=======>......................] - ETA: 29s - loss: 1.3116 - acc: 0.3879 - fmeasure: 0.0133 - recall: 0.0070 - precision: 0.1610"
          ],
          "name": "stdout"
        },
        {
          "output_type": "stream",
          "text": [
            "139997/139997 [==============================] - 42s 303us/step - loss: 1.3086 - acc: 0.3958 - fmeasure: 0.0171 - recall: 0.0093 - precision: 0.1655 - val_loss: 1.3136 - val_acc: 0.3898 - val_fmeasure: 3.7402e-04 - val_recall: 1.9285e-04 - val_precision: 0.0062\n",
            "\n",
            "Epoch 00012: val_loss did not improve from 1.28983\n",
            "Epoch 13/100\n",
            "  9184/139997 [>.............................] - ETA: 38s - loss: 1.3033 - acc: 0.3883 - fmeasure: 0.0017 - recall: 8.7108e-04 - precision: 0.0279"
          ],
          "name": "stdout"
        },
        {
          "output_type": "stream",
          "text": [
            "138976/139997 [============================>.] - ETA: 0s - loss: 1.3106 - acc: 0.3955 - fmeasure: 0.0033 - recall: 0.0020 - precision: 0.0237"
          ],
          "name": "stdout"
        },
        {
          "output_type": "stream",
          "text": [
            "139997/139997 [==============================] - 42s 304us/step - loss: 1.3107 - acc: 0.3954 - fmeasure: 0.0033 - recall: 0.0020 - precision: 0.0235 - val_loss: 1.3103 - val_acc: 0.3958 - val_fmeasure: 1.2467e-04 - val_recall: 6.4284e-05 - val_precision: 0.0021\n",
            "\n",
            "Epoch 00013: val_loss did not improve from 1.28983\n",
            "Epoch 14/100\n",
            " 38432/139997 [=======>......................] - ETA: 30s - loss: 1.3106 - acc: 0.3901 - fmeasure: 0.0179 - recall: 0.0097 - precision: 0.1649"
          ],
          "name": "stdout"
        },
        {
          "output_type": "stream",
          "text": [
            "139997/139997 [==============================] - 46s 326us/step - loss: 1.3079 - acc: 0.3984 - fmeasure: 0.0193 - recall: 0.0107 - precision: 0.1652 - val_loss: 1.3034 - val_acc: 0.4133 - val_fmeasure: 0.0396 - val_recall: 0.0209 - val_precision: 0.4611\n",
            "\n",
            "Epoch 00014: val_loss did not improve from 1.28983\n",
            "Epoch 15/100\n",
            "  5312/139997 [>.............................] - ETA: 39s - loss: 1.3106 - acc: 0.3980 - fmeasure: 0.0337 - recall: 0.0179 - precision: 0.3586"
          ],
          "name": "stdout"
        },
        {
          "output_type": "stream",
          "text": [
            "133888/139997 [===========================>..] - ETA: 1s - loss: 1.2999 - acc: 0.4040 - fmeasure: 0.0353 - recall: 0.0187 - precision: 0.4126"
          ],
          "name": "stdout"
        },
        {
          "output_type": "stream",
          "text": [
            "139997/139997 [==============================] - 43s 309us/step - loss: 1.2993 - acc: 0.4038 - fmeasure: 0.0349 - recall: 0.0185 - precision: 0.4099 - val_loss: 1.3011 - val_acc: 0.3934 - val_fmeasure: 0.0226 - val_recall: 0.0118 - val_precision: 0.3199\n",
            "\n",
            "Epoch 00015: val_loss did not improve from 1.28983\n",
            "Epoch 16/100\n",
            " 33376/139997 [======>.......................] - ETA: 34s - loss: 1.2992 - acc: 0.4055 - fmeasure: 0.0372 - recall: 0.0198 - precision: 0.4227"
          ],
          "name": "stdout"
        },
        {
          "output_type": "stream",
          "text": [
            "139997/139997 [==============================] - 45s 323us/step - loss: 1.3002 - acc: 0.3959 - fmeasure: 0.0345 - recall: 0.0185 - precision: 0.3661 - val_loss: 1.3114 - val_acc: 0.3901 - val_fmeasure: 3.7402e-04 - val_recall: 1.9285e-04 - val_precision: 0.0062\n",
            "\n",
            "Epoch 00016: val_loss did not improve from 1.28983\n",
            "Epoch 17/100\n",
            "  4768/139997 [>.............................] - ETA: 43s - loss: 1.3243 - acc: 0.3838 - fmeasure: 0.0016 - recall: 8.3893e-04 - precision: 0.0268"
          ],
          "name": "stdout"
        },
        {
          "output_type": "stream",
          "text": [
            "126112/139997 [==========================>...] - ETA: 4s - loss: 1.3093 - acc: 0.3915 - fmeasure: 0.0114 - recall: 0.0061 - precision: 0.1338"
          ],
          "name": "stdout"
        },
        {
          "output_type": "stream",
          "text": [
            "139997/139997 [==============================] - 45s 324us/step - loss: 1.3096 - acc: 0.3917 - fmeasure: 0.0106 - recall: 0.0057 - precision: 0.1227 - val_loss: 1.3156 - val_acc: 0.3912 - val_fmeasure: 3.7402e-04 - val_recall: 1.9285e-04 - val_precision: 0.0062\n",
            "\n",
            "Epoch 00017: val_loss did not improve from 1.28983\n",
            "Epoch 18/100\n",
            " 30336/139997 [=====>........................] - ETA: 35s - loss: 1.3117 - acc: 0.3954 - fmeasure: 0.0010 - recall: 5.2743e-04 - precision: 0.0169"
          ],
          "name": "stdout"
        },
        {
          "output_type": "stream",
          "text": [
            "139997/139997 [==============================] - 47s 337us/step - loss: 1.3104 - acc: 0.3934 - fmeasure: 0.0069 - recall: 0.0038 - precision: 0.0713 - val_loss: 1.3175 - val_acc: 0.3577 - val_fmeasure: 3.7402e-04 - val_recall: 1.9285e-04 - val_precision: 0.0062\n",
            "\n",
            "Epoch 00018: val_loss did not improve from 1.28983\n",
            "Epoch 19/100\n",
            "   704/139997 [..............................] - ETA: 46s - loss: 1.2936 - acc: 0.3594 - fmeasure: 0.0028 - recall: 0.0014 - precision: 0.0455"
          ],
          "name": "stdout"
        },
        {
          "output_type": "stream",
          "text": [
            "119936/139997 [========================>.....] - ETA: 6s - loss: 1.3120 - acc: 0.3894 - fmeasure: 0.0036 - recall: 0.0020 - precision: 0.0304"
          ],
          "name": "stdout"
        },
        {
          "output_type": "stream",
          "text": [
            "139997/139997 [==============================] - 45s 322us/step - loss: 1.3115 - acc: 0.3899 - fmeasure: 0.0032 - recall: 0.0018 - precision: 0.0292 - val_loss: 1.3109 - val_acc: 0.3899 - val_fmeasure: 3.7402e-04 - val_recall: 1.9285e-04 - val_precision: 0.0062\n",
            "\n",
            "Epoch 00019: val_loss did not improve from 1.28983\n",
            "Epoch 20/100\n",
            " 32992/139997 [======>.......................] - ETA: 31s - loss: 1.3095 - acc: 0.3934 - fmeasure: 9.3708e-04 - recall: 4.8497e-04 - precision: 0.0145"
          ],
          "name": "stdout"
        },
        {
          "output_type": "stream",
          "text": [
            "139997/139997 [==============================] - 42s 303us/step - loss: 1.3115 - acc: 0.3919 - fmeasure: 8.1448e-04 - recall: 4.2144e-04 - precision: 0.0127 - val_loss: 1.3136 - val_acc: 0.3979 - val_fmeasure: 4.9869e-04 - val_recall: 2.5714e-04 - val_precision: 0.0082\n",
            "\n",
            "Epoch 00020: val_loss did not improve from 1.28983\n",
            "Epoch 21/100\n",
            "  5632/139997 [>.............................] - ETA: 39s - loss: 1.2888 - acc: 0.3965 - fmeasure: 0.0017 - recall: 8.8778e-04 - precision: 0.0284"
          ],
          "name": "stdout"
        },
        {
          "output_type": "stream",
          "text": [
            "132256/139997 [===========================>..] - ETA: 2s - loss: 1.3100 - acc: 0.3920 - fmeasure: 9.5316e-04 - recall: 4.9147e-04 - precision: 0.0157"
          ],
          "name": "stdout"
        },
        {
          "output_type": "stream",
          "text": [
            "139997/139997 [==============================] - 43s 306us/step - loss: 1.3109 - acc: 0.3920 - fmeasure: 9.5586e-04 - recall: 4.9287e-04 - precision: 0.0158 - val_loss: 1.3156 - val_acc: 0.3895 - val_fmeasure: 3.7402e-04 - val_recall: 1.9285e-04 - val_precision: 0.0062\n",
            "\n",
            "Epoch 00021: val_loss did not improve from 1.28983\n",
            "Epoch 22/100\n",
            " 32128/139997 [=====>........................] - ETA: 34s - loss: 1.3175 - acc: 0.3915 - fmeasure: 7.2438e-04 - recall: 3.7351e-04 - precision: 0.0120"
          ],
          "name": "stdout"
        },
        {
          "output_type": "stream",
          "text": [
            "139997/139997 [==============================] - 44s 318us/step - loss: 1.3117 - acc: 0.3924 - fmeasure: 0.0017 - recall: 9.0716e-04 - precision: 0.0245 - val_loss: 1.3140 - val_acc: 0.3898 - val_fmeasure: 3.7402e-04 - val_recall: 1.9285e-04 - val_precision: 0.0062\n",
            "\n",
            "Epoch 00022: val_loss did not improve from 1.28983\n",
            "Epoch 00022: early stopping\n"
          ],
          "name": "stdout"
        },
        {
          "output_type": "execute_result",
          "data": {
            "text/plain": [
              "<keras.callbacks.History at 0x7fb1072cfc18>"
            ]
          },
          "metadata": {
            "tags": []
          },
          "execution_count": 18
        }
      ]
    },
    {
      "metadata": {
        "id": "PkIwgwcAijj3",
        "colab_type": "code",
        "colab": {}
      },
      "cell_type": "code",
      "source": [
        "from google.colab import files\n",
        "files.download(r'age_classifier_Unbalanced.hdf5')"
      ],
      "execution_count": 0,
      "outputs": []
    },
    {
      "metadata": {
        "id": "SxD8UXh6Y_sL",
        "colab_type": "code",
        "colab": {}
      },
      "cell_type": "code",
      "source": [
        "model.load_weights(r'age_classifier_Unbalanced.hdf5')"
      ],
      "execution_count": 0,
      "outputs": []
    },
    {
      "metadata": {
        "id": "w5AcTvhgZP7t",
        "colab_type": "code",
        "colab": {}
      },
      "cell_type": "code",
      "source": [
        "y_pred = model.predict(X_dws_test)"
      ],
      "execution_count": 0,
      "outputs": []
    },
    {
      "metadata": {
        "id": "KMpJ353rGL6n",
        "colab_type": "code",
        "colab": {
          "base_uri": "https://localhost:8080/",
          "height": 51
        },
        "outputId": "0ba5d3bc-efa5-4660-ecd3-90231518d097"
      },
      "cell_type": "code",
      "source": [
        "score = model.evaluate(X_dws_test, encoded_y_test, verbose=0)\n",
        "print('Test loss:', score[0])\n",
        "print('Test accuracy:', score[1])"
      ],
      "execution_count": 22,
      "outputs": [
        {
          "output_type": "stream",
          "text": [
            "Test loss: 1.2890656060075572\n",
            "Test accuracy: 0.42796806294839157\n"
          ],
          "name": "stdout"
        }
      ]
    }
  ]
}